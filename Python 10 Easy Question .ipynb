{
 "cells": [
  {
   "cell_type": "markdown",
   "id": "55b4d78e",
   "metadata": {},
   "source": [
    "### 1 . Classify the age Group "
   ]
  },
  {
   "cell_type": "code",
   "execution_count": 4,
   "id": "bacc7735",
   "metadata": {},
   "outputs": [
    {
     "name": "stdout",
     "output_type": "stream",
     "text": [
      "Enter your age : 34\n",
      "Adult \n"
     ]
    }
   ],
   "source": [
    "age = int(input(\"Enter your age : \"))\n",
    "if age < 13 : \n",
    "    print(\" Child \")\n",
    "elif age < 19 : \n",
    "    print(\"Teenager\")\n",
    "elif age < 59 : \n",
    "    print(\"Adult \")\n",
    "else :\n",
    "    print(\"Senior\")\n",
    "    \n",
    "del age "
   ]
  },
  {
   "cell_type": "markdown",
   "id": "0876d69f",
   "metadata": {},
   "source": [
    "### 2. Movie Tickit Pricing "
   ]
  },
  {
   "cell_type": "code",
   "execution_count": 9,
   "id": "88e3ec7f",
   "metadata": {},
   "outputs": [
    {
     "name": "stdout",
     "output_type": "stream",
     "text": [
      "Enter your age : 32\n",
      "12\n"
     ]
    }
   ],
   "source": [
    "from datetime import datetime \n",
    "\n",
    "day = datetime.now().strftime(\"%A\")\n",
    "\n",
    "# day = 'Wednesday'\n",
    "\n",
    "age = int(input(\"Enter your age : \"))\n",
    "\n",
    "price = 12 if (age >= 18) else 8 \n",
    "\n",
    "if ( day == 'Wednesday'):\n",
    "    price -= 2 \n",
    "\n",
    "print(price)\n",
    "\n",
    "del day , age , price "
   ]
  },
  {
   "cell_type": "markdown",
   "id": "2ef57f2e",
   "metadata": {},
   "source": [
    "### 3.Grade Calculator "
   ]
  },
  {
   "cell_type": "code",
   "execution_count": 1,
   "id": "82c8c977",
   "metadata": {},
   "outputs": [
    {
     "name": "stdout",
     "output_type": "stream",
     "text": [
      "Enter student's  grade : 78\n",
      "C\n"
     ]
    }
   ],
   "source": [
    "# assiene a latter grade based on the student progresss \n",
    "\n",
    "grade = int(input(\"Enter student's  grade : \"))\n",
    "\n",
    "if grade >100 :\n",
    "    print(\" There is an error : \")\n",
    "    exit()\n",
    "elif grade >= 90 : \n",
    "    print('A')\n",
    "elif grade >= 80 :\n",
    "    print('B')\n",
    "elif grade >= 70  :\n",
    "    print('C')\n",
    "elif grade >= 60  :\n",
    "    print('E')\n",
    "else : \n",
    "    print('F')\n",
    "    \n",
    "del grade"
   ]
  },
  {
   "cell_type": "markdown",
   "id": "7a9dbbaa",
   "metadata": {},
   "source": [
    "### 4 . Fruit Reapness Checker "
   ]
  },
  {
   "cell_type": "code",
   "execution_count": 5,
   "id": "adedd422",
   "metadata": {},
   "outputs": [
    {
     "name": "stdout",
     "output_type": "stream",
     "text": [
      "Enter the color of the frruit YelloW\n",
      "ripe\n"
     ]
    }
   ],
   "source": [
    "# based on the color green - unripe, yellow - ripe , brown - overripe \n",
    "\n",
    "color = input(\"Enter the color of the frruit \")\n",
    "\n",
    "if color.lower() == 'green':\n",
    "    print(\"unripe\")\n",
    "elif  color.lower() == 'brown':\n",
    "    print('Overripe')\n",
    "else : \n",
    "    print('ripe')\n",
    "del color "
   ]
  },
  {
   "cell_type": "markdown",
   "id": "b8d4f56b",
   "metadata": {},
   "source": [
    "### 5. Wheather activity Suggestion "
   ]
  },
  {
   "cell_type": "code",
   "execution_count": 7,
   "id": "f0dba6c6",
   "metadata": {},
   "outputs": [
    {
     "name": "stdout",
     "output_type": "stream",
     "text": [
      "Enter the currect wheather : Sunny  \n",
      "Go for walk : \n"
     ]
    }
   ],
   "source": [
    "# sunny - go for walk , rainy - read a book , snowy - build a snow man \n",
    "\n",
    "weather = input(\"Enter the currect wheather : \")\n",
    "\n",
    "if weather.lower().strip() == 'sunny':\n",
    "    print(\"Go for walk : \")\n",
    "elif weather.lower().strip() == 'rainy':\n",
    "    print('Read a book ')\n",
    "elif weather.lower().strip() == 'snowy':\n",
    "    print('Build a snow man ')\n",
    "del weather\n"
   ]
  },
  {
   "cell_type": "markdown",
   "id": "2d872092",
   "metadata": {},
   "source": [
    "### 6.  Transportation mode selection : "
   ]
  },
  {
   "cell_type": "code",
   "execution_count": 11,
   "id": "efbafca1",
   "metadata": {},
   "outputs": [
    {
     "name": "stdout",
     "output_type": "stream",
     "text": [
      "Enter the distance you want to travel : 32\n",
      "car\n"
     ]
    }
   ],
   "source": [
    "# 3-15 kilometer : bike , , 3km : walk , >15 car \n",
    "\n",
    "Distance = int(input(\"Enter the distance you want to travel : \"))\n",
    "\n",
    "if Distance < 3 : \n",
    "    print(\"Walk \")\n",
    "elif Distance < 15 : \n",
    "    print(\"Bike\")\n",
    "else :\n",
    "    print('car')\n",
    "del Distance"
   ]
  },
  {
   "cell_type": "markdown",
   "id": "b544efa2",
   "metadata": {},
   "source": [
    "### 7.Customized coffe order : "
   ]
  },
  {
   "cell_type": "code",
   "execution_count": 13,
   "id": "011cdca0",
   "metadata": {},
   "outputs": [
    {
     "name": "stdout",
     "output_type": "stream",
     "text": [
      "enter the order size small , medium or large medium\n",
      "you want to extra expresso ? no\n",
      "medium coffe\n"
     ]
    }
   ],
   "source": [
    "# order size and extra oprtion \n",
    "order_size = input(\"enter the order size small , medium or large \")\n",
    "extra = input(\"you want to extra expresso ? \")\n",
    "\n",
    "print(order_size,end=\"\")\n",
    "if extra.lower().strip() == 'yes':\n",
    "    print('  coffe with extra shot : ')\n",
    "else :\n",
    "    print(' coffe')\n",
    "del order_size,extra"
   ]
  },
  {
   "cell_type": "markdown",
   "id": "3aa9e6df",
   "metadata": {},
   "source": [
    "###  8 . Password strenth checker : "
   ]
  },
  {
   "cell_type": "code",
   "execution_count": 18,
   "id": "78f2c3b1",
   "metadata": {},
   "outputs": [
    {
     "name": "stdout",
     "output_type": "stream",
     "text": [
      "Enter your passworldsoham piprotar\n",
      "strong \n"
     ]
    }
   ],
   "source": [
    "# if char <6 weak , 6 to 10 medium , >10 strong \n",
    "\n",
    "pass_ = input(\"Enter your passworld\")\n",
    "\n",
    "l = len(pass_)\n",
    "\n",
    "if l < 6 :\n",
    "    print('weak')\n",
    "elif l <= 10 : \n",
    "    print('meduim')\n",
    "else :\n",
    "      print('strong ')\n",
    "        \n",
    "del pass_ , l "
   ]
  },
  {
   "cell_type": "markdown",
   "id": "4a400286",
   "metadata": {},
   "source": [
    "### 9. Leap year checker "
   ]
  },
  {
   "cell_type": "code",
   "execution_count": 24,
   "id": "b246d73c",
   "metadata": {},
   "outputs": [
    {
     "name": "stdout",
     "output_type": "stream",
     "text": [
      "enter the number of year : 2024\n",
      "This year is leap year : \n"
     ]
    }
   ],
   "source": [
    "# leap year is divisible by 4 but not by 100 unless it's devisible by 400 \n",
    "\n",
    "year_ = int(input(\"enter the number of year : \"))\n",
    "\n",
    "if (year_% 4== 0 and year_%100 != 0 )  or  year_%400 == 0 : \n",
    "    print(\"This year is leap year : \")\n",
    "else : \n",
    "    print(\"This is not an leap year : \")\n",
    "del year_\n"
   ]
  },
  {
   "cell_type": "markdown",
   "id": "72782307",
   "metadata": {},
   "source": [
    "### 10 . Pet food recommender system "
   ]
  },
  {
   "cell_type": "code",
   "execution_count": 25,
   "id": "71bfdef5",
   "metadata": {},
   "outputs": [
    {
     "name": "stdout",
     "output_type": "stream",
     "text": [
      "Enter the age  : 10 \n",
      "Senior dog food \n"
     ]
    }
   ],
   "source": [
    "age = int(input(\"Enter the age  : \"))\n",
    "\n",
    "if age < 2  : \n",
    "    print('puppy food ')\n",
    "elif age < 4  : \n",
    "    print(\"Adult dog food \")\n",
    "else : \n",
    "    print(\"Senior dog food \")"
   ]
  },
  {
   "cell_type": "code",
   "execution_count": null,
   "id": "f62ea694",
   "metadata": {},
   "outputs": [],
   "source": []
  }
 ],
 "metadata": {
  "kernelspec": {
   "display_name": "Python 3 (ipykernel)",
   "language": "python",
   "name": "python3"
  },
  "language_info": {
   "codemirror_mode": {
    "name": "ipython",
    "version": 3
   },
   "file_extension": ".py",
   "mimetype": "text/x-python",
   "name": "python",
   "nbconvert_exporter": "python",
   "pygments_lexer": "ipython3",
   "version": "3.11.4"
  }
 },
 "nbformat": 4,
 "nbformat_minor": 5
}
