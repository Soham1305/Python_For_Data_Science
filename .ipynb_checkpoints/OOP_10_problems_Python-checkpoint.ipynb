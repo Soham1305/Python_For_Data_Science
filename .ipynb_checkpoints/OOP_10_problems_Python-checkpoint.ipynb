{
 "cells": [
  {
   "cell_type": "markdown",
   "id": "cd5bd612",
   "metadata": {},
   "source": [
    "### OOP practice in python "
   ]
  },
  {
   "cell_type": "markdown",
   "id": "31ebbec1",
   "metadata": {},
   "source": [
    "#### Practice problem 1 : "
   ]
  },
  {
   "cell_type": "code",
   "execution_count": 1,
   "id": "240420f7",
   "metadata": {},
   "outputs": [],
   "source": [
    "# create an object for student \n",
    "\n",
    "class student : \n",
    "    def __init__(self , name , age , en , cgpa):\n",
    "        self.name = name  \n",
    "        self.age = age \n",
    "        self.en = en \n",
    "        self.cgpa= cgpa "
   ]
  },
  {
   "cell_type": "code",
   "execution_count": 2,
   "id": "7660c5a0",
   "metadata": {},
   "outputs": [],
   "source": [
    "stu_1 = student('soham piprotar' , 20 , 210200111091 , 8.87)"
   ]
  },
  {
   "cell_type": "code",
   "execution_count": 3,
   "id": "6e3fe516",
   "metadata": {},
   "outputs": [
    {
     "name": "stdout",
     "output_type": "stream",
     "text": [
      "soham piprotar 20 210200111091 8.87\n"
     ]
    }
   ],
   "source": [
    "print(stu_1.name , stu_1.age , stu_1.en , stu_1.cgpa)"
   ]
  },
  {
   "cell_type": "markdown",
   "id": "baa0d798",
   "metadata": {},
   "source": [
    "#### Practice problem 2 : "
   ]
  },
  {
   "cell_type": "code",
   "execution_count": 4,
   "id": "f2bf30cb",
   "metadata": {},
   "outputs": [],
   "source": [
    "# create an object for book detail in libary : \n",
    "\n",
    "class book : \n",
    "    def __init__(self , name , author , price):\n",
    "        self.name = name  \n",
    "        self.author = author \n",
    "        self.price = price"
   ]
  },
  {
   "cell_type": "code",
   "execution_count": 5,
   "id": "5a2b174e",
   "metadata": {},
   "outputs": [],
   "source": [
    "b = book('hello' , ' soham ', ' 999999999')"
   ]
  },
  {
   "cell_type": "code",
   "execution_count": 6,
   "id": "7ba5c7d1",
   "metadata": {},
   "outputs": [
    {
     "name": "stdout",
     "output_type": "stream",
     "text": [
      "hello  999999999  soham \n"
     ]
    }
   ],
   "source": [
    "print(b.name , b.price , b.author)"
   ]
  },
  {
   "cell_type": "markdown",
   "id": "5278e290",
   "metadata": {},
   "source": [
    "#### practice problem 3 : "
   ]
  },
  {
   "cell_type": "code",
   "execution_count": 7,
   "id": "8d942108",
   "metadata": {},
   "outputs": [
    {
     "name": "stdout",
     "output_type": "stream",
     "text": [
      "Variable   Type       Data/Info\n",
      "-------------------------------\n",
      "b          book       <__main__.book object at 0x00000181D4898F10>\n",
      "book       type       <class '__main__.book'>\n",
      "stu_1      student    <__main__.student object at 0x00000181D4862090>\n",
      "student    type       <class '__main__.student'>\n"
     ]
    }
   ],
   "source": [
    "%whos"
   ]
  },
  {
   "cell_type": "code",
   "execution_count": 8,
   "id": "e4dd2fef",
   "metadata": {},
   "outputs": [
    {
     "name": "stdout",
     "output_type": "stream",
     "text": [
      " MOdel s  Tesla \n",
      "MOdel s  Tesla  !   85Kwh\n",
      " Tesla  ! \n"
     ]
    }
   ],
   "source": [
    "class Car:\n",
    "    def __init__(self , model , brand):\n",
    "        self.model = model \n",
    "        self.__brand= brand\n",
    "    def get_brand(self):\n",
    "        return self.__brand + \" ! \"\n",
    "    def fullname(self):\n",
    "        return f\" {self.model } { self.__brand}\"\n",
    "class ElectricCar(Car):\n",
    "    \n",
    "    def __init__(self, model , __brand , bttry):\n",
    "        super().__init__(model , __brand)\n",
    "        self.bttry = bttry\n",
    "\n",
    "c= ElectricCar('MOdel s' , ' Tesla ' , ' 85Kwh')\n",
    "print(c.fullname())\n",
    "print(c.model , c.get_brand() , c.bttry)\n",
    "print(c.get_brand())"
   ]
  },
  {
   "cell_type": "markdown",
   "id": "64ffde10",
   "metadata": {},
   "source": [
    "#### Pratice of inheritance "
   ]
  },
  {
   "cell_type": "code",
   "execution_count": 9,
   "id": "92e3fd26",
   "metadata": {},
   "outputs": [],
   "source": [
    "# make an object like an student and make a topper student objjct in which the topper provide with the best placement support"
   ]
  },
  {
   "cell_type": "code",
   "execution_count": 10,
   "id": "423ef415",
   "metadata": {},
   "outputs": [],
   "source": [
    "class Student : \n",
    "    def __init__ (self , name , en , cgpa ):\n",
    "        self.name =  name \n",
    "        self.en = en \n",
    "        self.cgpa = cgpa \n",
    "        \n",
    "    def all_data(self):\n",
    "        return f\" {self.name} {self.en} { self.cgpa} \""
   ]
  },
  {
   "cell_type": "code",
   "execution_count": 11,
   "id": "d0e676d0",
   "metadata": {},
   "outputs": [],
   "source": [
    "class TopperStudent(Student) : \n",
    "    def __init__(self ,name , en , cgpa , topper):\n",
    "        super().__init__(name ,en,cgpa)\n",
    "        self.topper = topper\n",
    "    def all_data(self):\n",
    "        return f\" {self.name} {self.en} { self.cgpa} {self.topper} \""
   ]
  },
  {
   "cell_type": "code",
   "execution_count": 12,
   "id": "a0cdb9d5",
   "metadata": {},
   "outputs": [],
   "source": [
    "s = TopperStudent(\"soham\" , 210200111091 , 8.87, \"No\")"
   ]
  },
  {
   "cell_type": "code",
   "execution_count": 13,
   "id": "ac191cd7",
   "metadata": {},
   "outputs": [
    {
     "name": "stdout",
     "output_type": "stream",
     "text": [
      "soham 210200111091 8.87 No  soham 210200111091 8.87 No \n"
     ]
    }
   ],
   "source": [
    "print(s.name ,s.en , s.cgpa ,s.topper , s.all_data())"
   ]
  },
  {
   "cell_type": "markdown",
   "id": "5ec14ade",
   "metadata": {},
   "source": [
    "### Incapsulation"
   ]
  },
  {
   "cell_type": "code",
   "execution_count": 14,
   "id": "6f837f74",
   "metadata": {
    "scrolled": true
   },
   "outputs": [
    {
     "data": {
      "text/plain": [
       "'\\nMosify the car class to encapsulate the brand attricute , \\nmaking it pricate and procide a getter method for it \\n'"
      ]
     },
     "execution_count": 14,
     "metadata": {},
     "output_type": "execute_result"
    }
   ],
   "source": [
    "\"\"\"\n",
    "Mosify the car class to encapsulate the brand attricute , \n",
    "making it pricate and procide a getter method for it \n",
    "\"\"\""
   ]
  },
  {
   "cell_type": "code",
   "execution_count": 15,
   "id": "810f69a7",
   "metadata": {},
   "outputs": [
    {
     "name": "stdout",
     "output_type": "stream",
     "text": [
      "Variable        Type             Data/Info\n",
      "------------------------------------------\n",
      "Car             type             <class '__main__.Car'>\n",
      "ElectricCar     type             <class '__main__.ElectricCar'>\n",
      "Student         type             <class '__main__.Student'>\n",
      "TopperStudent   type             <class '__main__.TopperStudent'>\n",
      "b               book             <__main__.book object at 0x00000181D4898F10>\n",
      "book            type             <class '__main__.book'>\n",
      "c               ElectricCar      <__main__.ElectricCar obj<...>ct at 0x00000181D489E7D0>\n",
      "s               TopperStudent    <__main__.TopperStudent o<...>ct at 0x00000181D4889850>\n",
      "stu_1           student          <__main__.student object at 0x00000181D4862090>\n",
      "student         type             <class '__main__.student'>\n"
     ]
    }
   ],
   "source": [
    "%whos"
   ]
  },
  {
   "cell_type": "code",
   "execution_count": 16,
   "id": "ca98414e",
   "metadata": {},
   "outputs": [],
   "source": [
    "del Car , ElectricCar , Student , TopperStudent , student "
   ]
  },
  {
   "cell_type": "code",
   "execution_count": 17,
   "id": "a7dc2dfa",
   "metadata": {},
   "outputs": [
    {
     "name": "stdout",
     "output_type": "stream",
     "text": [
      "Variable   Type             Data/Info\n",
      "-------------------------------------\n",
      "b          book             <__main__.book object at 0x00000181D4898F10>\n",
      "book       type             <class '__main__.book'>\n",
      "c          ElectricCar      <__main__.ElectricCar obj<...>ct at 0x00000181D489E7D0>\n",
      "s          TopperStudent    <__main__.TopperStudent o<...>ct at 0x00000181D4889850>\n",
      "stu_1      student          <__main__.student object at 0x00000181D4862090>\n"
     ]
    }
   ],
   "source": [
    "%whos"
   ]
  },
  {
   "cell_type": "code",
   "execution_count": null,
   "id": "5df22214",
   "metadata": {},
   "outputs": [],
   "source": []
  },
  {
   "cell_type": "code",
   "execution_count": 18,
   "id": "c5832656",
   "metadata": {},
   "outputs": [
    {
     "name": "stdout",
     "output_type": "stream",
     "text": [
      "Variable   Type             Data/Info\n",
      "-------------------------------------\n",
      "b          book             <__main__.book object at 0x00000181D4898F10>\n",
      "book       type             <class '__main__.book'>\n",
      "c          ElectricCar      <__main__.ElectricCar obj<...>ct at 0x00000181D489E7D0>\n",
      "s          TopperStudent    <__main__.TopperStudent o<...>ct at 0x00000181D4889850>\n",
      "stu_1      student          <__main__.student object at 0x00000181D4862090>\n"
     ]
    }
   ],
   "source": [
    "%whos"
   ]
  },
  {
   "cell_type": "code",
   "execution_count": 19,
   "id": "b6b6cce2",
   "metadata": {},
   "outputs": [],
   "source": [
    "# make a car object and encapsulate all the attribute of that object inharit that object to electric car object "
   ]
  },
  {
   "cell_type": "code",
   "execution_count": 20,
   "id": "55c00e47",
   "metadata": {},
   "outputs": [],
   "source": [
    "class Car : \n",
    "    \n",
    "    Total_car = 0\n",
    "    \n",
    "    \n",
    "    def __init__ (self , brand , model):\n",
    "        self.__model = model \n",
    "        self.__brand = brand\n",
    "        #Car.Total_car += 1\n",
    "        self.Total_car += 1\n",
    "        \n",
    "    def all_data (self):\n",
    "        return f\"{self.__brand} {self.__model}\"\n",
    "    \n",
    "    def get_brand(self):\n",
    "        return self.__brand \n",
    "    \n",
    "    def get_model(self):\n",
    "        return self.__model\n",
    "    \n",
    "    def fuel_type(self):\n",
    "        return \"petrol or diesel\"\n",
    "    def set_model(self,new_model):\n",
    "        self.__model = new_model\n",
    "    def set_brand(self,new_brand):\n",
    "        self.__brand= new_brand\n",
    "    @staticmethod    \n",
    "    def general_description():\n",
    "        return \"cars are means of transports \"\n",
    "    def hi():\n",
    "        return \"you are an idiot \""
   ]
  },
  {
   "cell_type": "code",
   "execution_count": 21,
   "id": "526e6c63",
   "metadata": {},
   "outputs": [],
   "source": [
    "c = Car(\"Tata\" , \" Punch\")"
   ]
  },
  {
   "cell_type": "code",
   "execution_count": 22,
   "id": "9a215c75",
   "metadata": {},
   "outputs": [
    {
     "name": "stdout",
     "output_type": "stream",
     "text": [
      " Punch Tata\n"
     ]
    }
   ],
   "source": [
    "print(c.get_model(), c.get_brand())"
   ]
  },
  {
   "cell_type": "code",
   "execution_count": 23,
   "id": "3fd3745f",
   "metadata": {},
   "outputs": [],
   "source": [
    "class ElectricCar(Car):\n",
    "    def __init__(self , model ,brand , bttry):\n",
    "        super().__init__(brand , model)\n",
    "        self.__bttry= bttry\n",
    "    def get_bttry(self):\n",
    "        return self.__bttry\n",
    "    def fuel_type(self):\n",
    "        return \"Electric charge\"\n",
    "    def all_data(self):\n",
    "        return f\"{self.get_brand()} {self.get_model()} {self.get_bttry()}\""
   ]
  },
  {
   "cell_type": "code",
   "execution_count": 24,
   "id": "bc700c74",
   "metadata": {},
   "outputs": [
    {
     "name": "stdout",
     "output_type": "stream",
     "text": [
      "Electric charge\n"
     ]
    }
   ],
   "source": [
    "c_1 = ElectricCar(\"telsa\" ,\"model s \" , \" 85kWh\")\n",
    "print(c_1.fuel_type())"
   ]
  },
  {
   "cell_type": "code",
   "execution_count": 25,
   "id": "f1325999",
   "metadata": {},
   "outputs": [
    {
     "name": "stdout",
     "output_type": "stream",
     "text": [
      "model s  telsa  85kWh telsa model s   85kWh\n"
     ]
    }
   ],
   "source": [
    "print(c_1.all_data() , c_1.get_model(), c_1.get_brand() , c_1.get_bttry())"
   ]
  },
  {
   "cell_type": "code",
   "execution_count": 26,
   "id": "ffad0ca4",
   "metadata": {},
   "outputs": [],
   "source": [
    "c_2 = Car(\"toyota\" , \" land crusior\")"
   ]
  },
  {
   "cell_type": "code",
   "execution_count": 27,
   "id": "6c2eba43",
   "metadata": {},
   "outputs": [
    {
     "name": "stdout",
     "output_type": "stream",
     "text": [
      "toyota  land crusior\n",
      "petrol or diesel\n"
     ]
    }
   ],
   "source": [
    "print(c_2.all_data())\n",
    "print(c_2.fuel_type())"
   ]
  },
  {
   "cell_type": "code",
   "execution_count": 28,
   "id": "270c25aa",
   "metadata": {},
   "outputs": [
    {
     "name": "stdout",
     "output_type": "stream",
     "text": [
      "cars are means of transports \n",
      "you are an idiot \n"
     ]
    }
   ],
   "source": [
    "c_2.set_brand('BMW')\n",
    "c_2.set_model('M-5')\n",
    "print(c_2.general_description())\n",
    "print(Car.hi())"
   ]
  },
  {
   "cell_type": "code",
   "execution_count": 29,
   "id": "2d6fdc52",
   "metadata": {},
   "outputs": [
    {
     "name": "stdout",
     "output_type": "stream",
     "text": [
      "BMW M-5\n"
     ]
    }
   ],
   "source": [
    "print(c_2.all_data())"
   ]
  },
  {
   "cell_type": "markdown",
   "id": "1e807a52",
   "metadata": {},
   "source": [
    "### Polymotphism"
   ]
  },
  {
   "cell_type": "code",
   "execution_count": 30,
   "id": "4dced57f",
   "metadata": {},
   "outputs": [
    {
     "data": {
      "text/plain": [
       "'\\ndemostrate the polymotphism by defining a method fuel_type in both car and ElectricCar classs , bu with diffrent behaviours \\n'"
      ]
     },
     "execution_count": 30,
     "metadata": {},
     "output_type": "execute_result"
    }
   ],
   "source": [
    "\"\"\"\n",
    "demostrate the polymotphism by defining a method fuel_type in both car and ElectricCar classs , bu with diffrent behaviours \n",
    "\"\"\""
   ]
  },
  {
   "cell_type": "markdown",
   "id": "563a6ede",
   "metadata": {},
   "source": [
    "### Class Variables "
   ]
  },
  {
   "cell_type": "code",
   "execution_count": 31,
   "id": "3c5312d4",
   "metadata": {},
   "outputs": [
    {
     "data": {
      "text/plain": [
       "'\\nAdd a class variable to car that track of the number of cars createdd\\n'"
      ]
     },
     "execution_count": 31,
     "metadata": {},
     "output_type": "execute_result"
    }
   ],
   "source": [
    "\"\"\"\n",
    "Add a class variable to car that track of the number of cars createdd\n",
    "\"\"\""
   ]
  },
  {
   "cell_type": "markdown",
   "id": "2c51e220",
   "metadata": {},
   "source": [
    "### static method using decorators "
   ]
  },
  {
   "cell_type": "code",
   "execution_count": 32,
   "id": "9b6b8019",
   "metadata": {},
   "outputs": [],
   "source": [
    "# by using decorators use to implimet the static method in side the function "
   ]
  },
  {
   "cell_type": "markdown",
   "id": "257e351b",
   "metadata": {},
   "source": [
    "### Property Decorator To make Read Only "
   ]
  },
  {
   "cell_type": "code",
   "execution_count": 33,
   "id": "2d937e8b",
   "metadata": {},
   "outputs": [
    {
     "name": "stdout",
     "output_type": "stream",
     "text": [
      "Variable      Type             Data/Info\n",
      "----------------------------------------\n",
      "Car           type             <class '__main__.Car'>\n",
      "ElectricCar   type             <class '__main__.ElectricCar'>\n",
      "b             book             <__main__.book object at 0x00000181D4898F10>\n",
      "book          type             <class '__main__.book'>\n",
      "c             Car              <__main__.Car object at 0x00000181D48BD310>\n",
      "c_1           ElectricCar      <__main__.ElectricCar obj<...>ct at 0x00000181D48BC210>\n",
      "c_2           Car              <__main__.Car object at 0x00000181D4889250>\n",
      "s             TopperStudent    <__main__.TopperStudent o<...>ct at 0x00000181D4889850>\n",
      "stu_1         student          <__main__.student object at 0x00000181D4862090>\n"
     ]
    }
   ],
   "source": [
    "%whos"
   ]
  },
  {
   "cell_type": "markdown",
   "id": "4656396c",
   "metadata": {},
   "source": [
    "### Pracatice Object Creation and Inheritance  , incapsulation  , Polymorphism  , object variable  , static methods (decorators ) "
   ]
  },
  {
   "cell_type": "code",
   "execution_count": 34,
   "id": "f943c0e2",
   "metadata": {},
   "outputs": [],
   "source": [
    "# create an object car and inhariet that object in to another object call electric car "
   ]
  },
  {
   "cell_type": "code",
   "execution_count": 35,
   "id": "a28f43a6",
   "metadata": {},
   "outputs": [
    {
     "name": "stdout",
     "output_type": "stream",
     "text": [
      "M5 BMW\n",
      "M5 BMW\n",
      "tesla  cyber truck  150kWh\n",
      "tesla tesla  150kWh\n",
      "2\n",
      "car have a wings , which may get you to the heaven \n",
      "car have a wings , which may get you to the heaven \n",
      "M5\n",
      "M5\n",
      "M3\n"
     ]
    }
   ],
   "source": [
    "class Car : \n",
    "    obj_cnt = 0 \n",
    "    def __init__ (self , brand , model):\n",
    "        self.__model = model  # privatization of the variable \n",
    "        self.__brand = brand \n",
    "        Car.obj_cnt +=  1 \n",
    "        \n",
    "    #incapsulation \n",
    "    def get_model(self):\n",
    "        return self.__model \n",
    "    \n",
    "    def get_brand(self):\n",
    "        return self.__brand     \n",
    "    def all_data(self):\n",
    "        return f\"{self.get_model()} {self.get_brand()}\"\n",
    "    # it's an also part of the incapsulation \n",
    "#     def set_model(self , new_model ):\n",
    "#         self.__model = new_model \n",
    "    \n",
    "#     def set_brand(self , new_brand):\n",
    "#         self.__brand = new_brand\n",
    "    \n",
    "    @staticmethod \n",
    "    \n",
    "    def general_info():\n",
    "        return \"car have a wings , which may get you to the heaven \"\n",
    "    @property    \n",
    "    def model(self):\n",
    "        return self.__model\n",
    "    @model.setter\n",
    "    def model(self,new_model):\n",
    "        self.__model = new_model \n",
    "        \n",
    "car = Car('BMW' , 'M5')\n",
    "\n",
    "# print(car.model , car.brand)  # we can't because inorder to do that we have to call a perticuler method \n",
    "print(car.get_model() , car.get_brand())\n",
    "print(car.all_data())\n",
    "\n",
    "class ElectricCar(Car):\n",
    "    \n",
    "    def __init__(self , model , brand , bttry):\n",
    "        \n",
    "        super().__init__( brand , model )\n",
    "        self.__bttry = bttry\n",
    "        \n",
    "    def get_bttry(self):\n",
    "        return self.__bttry \n",
    "    def set_bttry(self , new_bttry):\n",
    "        self.__bttry = new_bttry \n",
    "        \n",
    "    # polymotphism because we previously defaine all data method in the our main Car object \n",
    "    \n",
    "    def all_data(self):\n",
    "        return f\"{self.get_model()} { self.get_model()} {self.get_bttry() }\"\n",
    "    \n",
    "ele_car =  ElectricCar('tesla' , ' cyber truck' , ' 150kWh')\n",
    "# print(ele_car.model , ele_car.brand , ele_car.bttry )  # but we can't get anything because all the vaiable are in privet mode     \n",
    "print(ele_car.get_model() , ele_car.get_brand() , ele_car.get_bttry() )\n",
    "print(ele_car.all_data())\n",
    "print(Car.obj_cnt)\n",
    "print(car.general_info())  # Gives the result because of MRO(Method Resolution Order ) --> but it's good practice to use object while calling the static method in pyton class \n",
    "print(Car.general_info())\n",
    "# car.set_model('M3')\n",
    "print(car.get_model())\n",
    "# car.model = 'M5'\n",
    "\n",
    "# car.set_model('M5')\n",
    "print(car.model)\n",
    "# car.model = 'M3'  --> This fucntion give as error because we use property to make model read only remember one thing that you can't make a custom method for setter ( if you do so there is not value for using propery and it's can't make it readable at all )  \n",
    "car.model = 'M3'\n",
    "print(car.model)"
   ]
  },
  {
   "cell_type": "markdown",
   "id": "62fd8a40",
   "metadata": {},
   "source": [
    "### Use the property Decorator in car class to make the model attribute to read only "
   ]
  },
  {
   "cell_type": "code",
   "execution_count": 36,
   "id": "317a8cd6",
   "metadata": {},
   "outputs": [],
   "source": [
    " #This fucntion give as error because we use property to make model read only remember one thing that you can't make a custom method for setter ( if you do so there is not value for using propery and it's can't make it readable at all ) "
   ]
  },
  {
   "cell_type": "code",
   "execution_count": 37,
   "id": "b485c367",
   "metadata": {},
   "outputs": [],
   "source": [
    "# always use your object attributes as a privet model so that you can't get attribute error because if it' set as a read only you can't modify it even in __init__ method "
   ]
  },
  {
   "cell_type": "markdown",
   "id": "e3742122",
   "metadata": {},
   "source": [
    "### Inheritance and isinstance "
   ]
  },
  {
   "cell_type": "code",
   "execution_count": 38,
   "id": "4399e2aa",
   "metadata": {},
   "outputs": [],
   "source": [
    "# Demonstrate the use of isinstance () to chec if my_tesla is an instance of car and Electric car \n",
    "\n",
    "\n",
    "class S_Main : \n",
    "    def __init__(self , name , en ):\n",
    "        self.__name = name \n",
    "        self.__en = en \n",
    "    @property \n",
    "    def name(self):\n",
    "        return self.__name \n",
    "    @property\n",
    "    def en(self):\n",
    "        return self.__en\n",
    "    @name.setter\n",
    "    def name(self , new_name):\n",
    "        self.__name = new_name \n",
    "    @en.setter \n",
    "    def en(self , new_en):\n",
    "        self.__en = new_en\n",
    "    def full_info(self):\n",
    "        return f\"{self.name} {self.en}\""
   ]
  },
  {
   "cell_type": "code",
   "execution_count": 39,
   "id": "687ef480",
   "metadata": {},
   "outputs": [
    {
     "name": "stdout",
     "output_type": "stream",
     "text": [
      "soham 210200111091\n",
      "soham\n",
      "210200111091\n",
      " Divyesh 210200111006\n"
     ]
    }
   ],
   "source": [
    "s = S_Main(\"soham\" , 210200111091)\n",
    "print(s.full_info())\n",
    "print(s.name)\n",
    "print(s.en)\n",
    "s.name = \" Divyesh\"\n",
    "s.en = 210200111006\n",
    "print(s.name  , s.en)"
   ]
  },
  {
   "cell_type": "code",
   "execution_count": 40,
   "id": "8a5ad1c1",
   "metadata": {},
   "outputs": [],
   "source": [
    "class S_Minor(S_Main):\n",
    "    def __init__ (self , name , en , minor_cgpa): \n",
    "        super().__init__(name , en)\n",
    "        self.__cgpa = minor_cgpa \n",
    "    \n",
    "    @property \n",
    "    def cgpa(self):\n",
    "        return self.__cgpa \n",
    "    @cgpa.setter \n",
    "    def cgpa(self, new_grade):\n",
    "        self.__cgpa = new_grade"
   ]
  },
  {
   "cell_type": "code",
   "execution_count": 41,
   "id": "227e64ce",
   "metadata": {},
   "outputs": [],
   "source": [
    "s1 = S_Minor('soham' , 210200111091 , 8.87)"
   ]
  },
  {
   "cell_type": "code",
   "execution_count": 42,
   "id": "771df927",
   "metadata": {},
   "outputs": [
    {
     "name": "stdout",
     "output_type": "stream",
     "text": [
      "soham 210200111091 8.87\n"
     ]
    }
   ],
   "source": [
    "print(s1.name , s1.en , s1.cgpa)"
   ]
  },
  {
   "cell_type": "code",
   "execution_count": 43,
   "id": "f6ce015c",
   "metadata": {},
   "outputs": [
    {
     "data": {
      "text/plain": [
       "True"
      ]
     },
     "execution_count": 43,
     "metadata": {},
     "output_type": "execute_result"
    }
   ],
   "source": [
    "isinstance(s1,S_Main) "
   ]
  },
  {
   "cell_type": "code",
   "execution_count": 44,
   "id": "9239b8c8",
   "metadata": {},
   "outputs": [
    {
     "name": "stdout",
     "output_type": "stream",
     "text": [
      "False\n"
     ]
    }
   ],
   "source": [
    "print(isinstance(S_Minor , S_Main))"
   ]
  },
  {
   "cell_type": "markdown",
   "id": "88e767fd",
   "metadata": {},
   "source": [
    "### Multiple Inheritance "
   ]
  },
  {
   "cell_type": "code",
   "execution_count": 45,
   "id": "642e78dd",
   "metadata": {},
   "outputs": [
    {
     "data": {
      "text/plain": [
       "'\\nCreat two classes battry and engine , and let the ElecricCar class \\ninherit from bot , demostrating multiple inheritance \\n\\n'"
      ]
     },
     "execution_count": 45,
     "metadata": {},
     "output_type": "execute_result"
    }
   ],
   "source": [
    "\"\"\"\n",
    "Creat two classes battry and engine , and let the ElecricCar class \n",
    "inherit from bot , demostrating multiple inheritance \n",
    "\n",
    "\"\"\""
   ]
  },
  {
   "cell_type": "code",
   "execution_count": 46,
   "id": "249a9579",
   "metadata": {},
   "outputs": [],
   "source": [
    "class Bttry: \n",
    "    def __intit__(self , vol , data ):\n",
    "        self.vol = vol \n",
    "        self.data = data\n",
    "    def bttry_info(self ):\n",
    "        return \" This is the Bttry \"\n",
    "\n",
    "class Engine : \n",
    "    def Engin_info(self):\n",
    "        return \" This is the Engine \"\n",
    "\n",
    "class ElectricCar2(Bttry, Engine  , Car):\n",
    "    pass\n"
   ]
  },
  {
   "cell_type": "code",
   "execution_count": 47,
   "id": "252aaf8d",
   "metadata": {},
   "outputs": [],
   "source": [
    "my_new_tesla = ElectricCar2(\"Tesla\" , \" Model s\" )"
   ]
  },
  {
   "cell_type": "code",
   "execution_count": 48,
   "id": "1d9db130",
   "metadata": {},
   "outputs": [
    {
     "name": "stdout",
     "output_type": "stream",
     "text": [
      " This is the Bttry   This is the Engine \n"
     ]
    }
   ],
   "source": [
    "print(my_new_tesla.bttry_info() , my_new_tesla.Engin_info())"
   ]
  },
  {
   "cell_type": "code",
   "execution_count": 49,
   "id": "c1fb262a",
   "metadata": {},
   "outputs": [
    {
     "ename": "AttributeError",
     "evalue": "'ElectricCar2' object has no attribute 'vol'",
     "output_type": "error",
     "traceback": [
      "\u001b[1;31m---------------------------------------------------------------------------\u001b[0m",
      "\u001b[1;31mAttributeError\u001b[0m                            Traceback (most recent call last)",
      "Cell \u001b[1;32mIn[49], line 1\u001b[0m\n\u001b[1;32m----> 1\u001b[0m \u001b[38;5;28mprint\u001b[39m(my_new_tesla\u001b[38;5;241m.\u001b[39mvol)\n",
      "\u001b[1;31mAttributeError\u001b[0m: 'ElectricCar2' object has no attribute 'vol'"
     ]
    }
   ],
   "source": [
    "print(my_new_tesla.vol)"
   ]
  },
  {
   "cell_type": "code",
   "execution_count": null,
   "id": "b29c0726",
   "metadata": {},
   "outputs": [],
   "source": [
    "test_list_1 = [ x**x for x in range(1,10)]"
   ]
  },
  {
   "cell_type": "code",
   "execution_count": null,
   "id": "33bf31e6-a1f5-44ae-a4f4-a56c36620d27",
   "metadata": {},
   "outputs": [],
   "source": [
    "print(test_list_1)"
   ]
  },
  {
   "cell_type": "markdown",
   "id": "8f64a305-e919-44fa-b558-7a64c3929138",
   "metadata": {},
   "source": [
    "###  Make an object and perfromthe inheritance , encapsulation to understaand the OOP better way "
   ]
  },
  {
   "cell_type": "code",
   "execution_count": null,
   "id": "a9beeed9-4dc4-4a08-940e-f7ffaa173e2a",
   "metadata": {},
   "outputs": [],
   "source": [
    "%whos"
   ]
  },
  {
   "cell_type": "code",
   "execution_count": null,
   "id": "ef2874d6-8f49-41f2-816c-4b5fa63c5877",
   "metadata": {},
   "outputs": [],
   "source": [
    "del test_list_1"
   ]
  },
  {
   "cell_type": "code",
   "execution_count": 50,
   "id": "270ff779-1a0e-4539-9f2d-2318e3f5490d",
   "metadata": {},
   "outputs": [
    {
     "name": "stdout",
     "output_type": "stream",
     "text": [
      "Variable       Type            Data/Info\n",
      "----------------------------------------\n",
      "Bttry          type            <class '__main__.Bttry'>\n",
      "Car            type            <class '__main__.Car'>\n",
      "ElectricCar    type            <class '__main__.ElectricCar'>\n",
      "ElectricCar2   type            <class '__main__.ElectricCar2'>\n",
      "Engine         type            <class '__main__.Engine'>\n",
      "S_Main         type            <class '__main__.S_Main'>\n",
      "S_Minor        type            <class '__main__.S_Minor'>\n",
      "b              book            <__main__.book object at 0x00000181D4898F10>\n",
      "book           type            <class '__main__.book'>\n",
      "c              Car             <__main__.Car object at 0x00000181D48BD310>\n",
      "c_1            ElectricCar     <__main__.ElectricCar obj<...>ct at 0x00000181D48BC210>\n",
      "c_2            Car             <__main__.Car object at 0x00000181D4889250>\n",
      "car            Car             <__main__.Car object at 0x00000181D48F48D0>\n",
      "ele_car        ElectricCar     <__main__.ElectricCar obj<...>ct at 0x00000181D48F5590>\n",
      "my_new_tesla   ElectricCar2    <__main__.ElectricCar2 ob<...>ct at 0x00000181D48A7550>\n",
      "s              S_Main          <__main__.S_Main object at 0x00000181D48DCC10>\n",
      "s1             S_Minor         <__main__.S_Minor object at 0x00000181D48DCBD0>\n",
      "stu_1          student         <__main__.student object at 0x00000181D4862090>\n"
     ]
    }
   ],
   "source": [
    "%whos"
   ]
  },
  {
   "cell_type": "code",
   "execution_count": 53,
   "id": "3507d9d9-30ea-4e45-a005-7553dfa57bd5",
   "metadata": {},
   "outputs": [
    {
     "data": {
      "text/plain": [
       "' make an  object name department name and make 2nd objecct name another department that practice the inheritance , incapsulation and polymorphism '"
      ]
     },
     "execution_count": 53,
     "metadata": {},
     "output_type": "execute_result"
    }
   ],
   "source": [
    "\"\"\" make an  object name department name and make 2nd objecct name another department that practice the inheritance , incapsulation and polymorphism \"\"\""
   ]
  },
  {
   "cell_type": "code",
   "execution_count": null,
   "id": "781fad76-abba-46ae-99d7-75f7ed9adace",
   "metadata": {},
   "outputs": [],
   "source": []
  }
 ],
 "metadata": {
  "kernelspec": {
   "display_name": "Python 3 (ipykernel)",
   "language": "python",
   "name": "python3"
  },
  "language_info": {
   "codemirror_mode": {
    "name": "ipython",
    "version": 3
   },
   "file_extension": ".py",
   "mimetype": "text/x-python",
   "name": "python",
   "nbconvert_exporter": "python",
   "pygments_lexer": "ipython3",
   "version": "3.11.8"
  }
 },
 "nbformat": 4,
 "nbformat_minor": 5
}
