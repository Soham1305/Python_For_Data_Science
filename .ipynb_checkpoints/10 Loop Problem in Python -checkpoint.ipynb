{
 "cells": [
  {
   "cell_type": "markdown",
   "id": "8ff5fa92",
   "metadata": {},
   "source": [
    "###  1. Counting Positive numbers "
   ]
  },
  {
   "cell_type": "code",
   "execution_count": 4,
   "id": "d5859498",
   "metadata": {},
   "outputs": [
    {
     "name": "stdout",
     "output_type": "stream",
     "text": [
      "enter the number that you want to put in the list : 4\n",
      "Enter the num : -2\n",
      "Enter the num : 3\n",
      "Enter the num : -2\n",
      "Enter the num : 98\n",
      "[-2, 3, -2, 98]\n",
      "2\n"
     ]
    }
   ],
   "source": [
    "# given a list of number how many are positive \n",
    "\n",
    "num = int(input(\"enter the number that you want to put in the list : \"))\n",
    "\n",
    "list_1 = []\n",
    "\n",
    "while num : \n",
    "    a = int(input(\"Enter the num : \"))\n",
    "    list.append(a)\n",
    "    num -= 1 \n",
    "\n",
    "print(list)\n",
    "count = 0 \n",
    "for i in list : \n",
    "    if i > 0 :\n",
    "        count += 1 \n",
    "    \n",
    "print(count)\n",
    "\n",
    "del num , list_1 , count"
   ]
  },
  {
   "cell_type": "markdown",
   "id": "31c6468c",
   "metadata": {},
   "source": [
    "### 2. Sum of even numbers : \n"
   ]
  },
  {
   "cell_type": "code",
   "execution_count": 5,
   "id": "0e8cd385",
   "metadata": {},
   "outputs": [
    {
     "name": "stdout",
     "output_type": "stream",
     "text": [
      "enter the number  : 10\n",
      "110\n"
     ]
    }
   ],
   "source": [
    "#calulate the sum of given number up to n \n",
    "\n",
    "n = int(input(\"enter the number  : \"))\n",
    "\n",
    "sum = 0 \n",
    "\n",
    "for i in range(n+1):\n",
    "    if n % 2 == 0 : \n",
    "        sum += n \n",
    "    \n",
    "print(sum )\n",
    "\n",
    "del sum , n "
   ]
  },
  {
   "cell_type": "markdown",
   "id": "2b520e16",
   "metadata": {},
   "source": [
    "### 3 . Multiplication table up to 10 "
   ]
  },
  {
   "cell_type": "code",
   "execution_count": 8,
   "id": "b1c59ac5",
   "metadata": {},
   "outputs": [
    {
     "name": "stdout",
     "output_type": "stream",
     "text": [
      "enter the number for which you want table : 5\n",
      "5   X   1  =  5\n",
      "5   X   2  =  10\n",
      "5   X   3  =  15\n",
      "5   X   4  =  20\n",
      "5   X   6  =  30\n",
      "5   X   7  =  35\n",
      "5   X   8  =  40\n",
      "5   X   9  =  45\n",
      "5   X   10  =  50\n"
     ]
    }
   ],
   "source": [
    "# print a tabel upto 10 for a given number  but skip the 5th iteration  ;\n",
    "\n",
    "num = int(input(\"enter the number for which you want table : \"))\n",
    "\n",
    "for i in range(1, 11):\n",
    "    \n",
    "    if i == 5 :\n",
    "        continue \n",
    "    print(num , \"  X  \" , i ,\" = \" , num*i )\n",
    "    \n",
    "del num "
   ]
  },
  {
   "cell_type": "markdown",
   "id": "5b875869",
   "metadata": {},
   "source": [
    "### 4 . Reverse a string using loop "
   ]
  },
  {
   "cell_type": "code",
   "execution_count": 11,
   "id": "4d273bfa",
   "metadata": {},
   "outputs": [
    {
     "name": "stdout",
     "output_type": "stream",
     "text": [
      "enter the string you want to reverse  : soham\n",
      "mahos\n"
     ]
    }
   ],
   "source": [
    "# Reverse a string using loop \n",
    "\n",
    "str = input(\"enter the string you want to reverse  : \")\n",
    "\n",
    "ans = ''\n",
    "\n",
    "for i in str : \n",
    "    ans = i + ans \n",
    "    \n",
    "print(ans)\n",
    "del str , ans "
   ]
  },
  {
   "cell_type": "markdown",
   "id": "8a8e5086",
   "metadata": {},
   "source": [
    "### 5.Find the First non repeating character "
   ]
  },
  {
   "cell_type": "code",
   "execution_count": 16,
   "id": "ff5798b0",
   "metadata": {},
   "outputs": [
    {
     "name": "stdout",
     "output_type": "stream",
     "text": [
      "enter the string ababaa\n",
      "a\n"
     ]
    }
   ],
   "source": [
    "# bruate force approach : time complxity : O(N**2 )\n",
    "\n",
    "str = input(\"enter the string \")\n",
    "\n",
    "# ans =''\n",
    "\n",
    "# for i in range(len(str)):\n",
    "    \n",
    "#     for j in range(i+1,len(str)):\n",
    "        \n",
    "#         if(str[i] == str[j]):\n",
    "#             ans = str[i] \n",
    "#             break \n",
    "\n",
    "#method 2 : \n",
    "\n",
    "for i in str : \n",
    "    if str.count(i) > 1 : \n",
    "        print(i)\n",
    "        break\n",
    "# print(ans)\n",
    "del str \n",
    "\n"
   ]
  },
  {
   "cell_type": "markdown",
   "id": "9eade7b0",
   "metadata": {},
   "source": [
    "### 6.Factorial calulator "
   ]
  },
  {
   "cell_type": "code",
   "execution_count": 19,
   "id": "52b6b9f3",
   "metadata": {},
   "outputs": [
    {
     "name": "stdout",
     "output_type": "stream",
     "text": [
      "Enter the number  : 2 \n",
      "2\n"
     ]
    }
   ],
   "source": [
    "num = int(input(\"Enter the number  : \"))\n",
    "\n",
    "ans = 1 \n",
    "\n",
    "for i in range(1, num+1):\n",
    "    ans *= i \n",
    "    \n",
    "print(ans )\n",
    "\n",
    "del num , ans "
   ]
  },
  {
   "cell_type": "markdown",
   "id": "579d41d7",
   "metadata": {},
   "source": [
    "### 7 . keep asking to user to enter a number untill it enter the number 1 to 10 "
   ]
  },
  {
   "cell_type": "code",
   "execution_count": 22,
   "id": "013c9f97",
   "metadata": {},
   "outputs": [
    {
     "name": "stdout",
     "output_type": "stream",
     "text": [
      "enter the number 3\n",
      "Thank you !!! \n"
     ]
    }
   ],
   "source": [
    "num = int(input(\"enter the number \"))\n",
    "\n",
    "while not(num >= 1 and num <= 10 ):\n",
    "    num = int(input(\"enter the number : \"))\n",
    "\n",
    "print(\"Thank you !!! \")\n",
    "\n",
    "del num "
   ]
  },
  {
   "cell_type": "markdown",
   "id": "58f1b70f",
   "metadata": {},
   "source": [
    "### 8.Prime number checker "
   ]
  },
  {
   "cell_type": "code",
   "execution_count": 7,
   "id": "ecb01103",
   "metadata": {},
   "outputs": [
    {
     "name": "stdout",
     "output_type": "stream",
     "text": [
      "enter the number : 11\n",
      "number is prime \n"
     ]
    }
   ],
   "source": [
    "import math \n",
    "import sys \n",
    "num = int(input(\"enter the number : \"))\n",
    "\n",
    "for i in range(2,num):\n",
    "    if num%i == 0:\n",
    "        print(\"number is not prime \")\n",
    "        sys.exit()\n",
    "\n",
    "print(\"number is prime \")\n",
    "\n",
    "del num "
   ]
  },
  {
   "cell_type": "markdown",
   "id": "842fa546",
   "metadata": {},
   "source": [
    "### 9 . List unique ness checker "
   ]
  },
  {
   "cell_type": "code",
   "execution_count": 10,
   "id": "cd7e0d5c",
   "metadata": {},
   "outputs": [
    {
     "name": "stdout",
     "output_type": "stream",
     "text": [
      "enter the number that you want to put in the list : 3\n",
      "Enter the num : 1\n",
      "Enter the num : 2\n",
      "Enter the num : 3\n",
      "[1, 2, 3]\n",
      "This list is uniuqu : \n"
     ]
    }
   ],
   "source": [
    "import sys \n",
    "num = int(input(\"enter the number that you want to put in the list : \"))\n",
    "\n",
    "list_1 = []\n",
    "\n",
    "while num : \n",
    "    a = int(input(\"Enter the num : \"))\n",
    "    list_1.append(a)\n",
    "    num -= 1 \n",
    "\n",
    "print(list_1)\n",
    "\n",
    "for i in list_1 :\n",
    "    if list_1.count(i)>1:\n",
    "        print(\"this list is not unique : \")\n",
    "        sys.exit()\n",
    "\n",
    "print(\"This list is uniuqu : \")\n",
    "\n",
    "del list_1 , num "
   ]
  },
  {
   "cell_type": "markdown",
   "id": "31289944",
   "metadata": {},
   "source": [
    "### 10 . Exponetial backoff "
   ]
  },
  {
   "cell_type": "code",
   "execution_count": null,
   "id": "026e74f3",
   "metadata": {},
   "outputs": [
    {
     "name": "stdout",
     "output_type": "stream",
     "text": [
      "enter the pass world soham\n",
      "enter your passworld soham1\n"
     ]
    }
   ],
   "source": [
    "# implement a exponential back of stretergy that doubles the wait time between teh retries \n",
    "\n",
    "import time \n",
    "import sys\n",
    "\n",
    "pass_ = input(\"enter the pass world \")\n",
    "delay = 1\n",
    "\n",
    "user_in = input(\"enter your passworld \")\n",
    "\n",
    "if pass_ == user_in : \n",
    "    print ( \" you grant the acsess : \")\n",
    "    sys.exit()\n",
    "while not(pass_ == user_in): \n",
    "\n",
    "    delay *= 2 \n",
    "    time.sleep(delay)\n",
    "    user_in = input(\"re-enter your password : \")\n",
    "    if pass_ == user_in : \n",
    "        print ( \" you grant the acsess : \")\n",
    "    \n"
   ]
  },
  {
   "cell_type": "code",
   "execution_count": null,
   "id": "199a1fab",
   "metadata": {},
   "outputs": [],
   "source": []
  }
 ],
 "metadata": {
  "kernelspec": {
   "display_name": "Python 3 (ipykernel)",
   "language": "python",
   "name": "python3"
  },
  "language_info": {
   "codemirror_mode": {
    "name": "ipython",
    "version": 3
   },
   "file_extension": ".py",
   "mimetype": "text/x-python",
   "name": "python",
   "nbconvert_exporter": "python",
   "pygments_lexer": "ipython3",
   "version": "3.11.4"
  }
 },
 "nbformat": 4,
 "nbformat_minor": 5
}
