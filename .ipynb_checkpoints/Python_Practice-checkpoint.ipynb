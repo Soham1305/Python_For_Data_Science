{
 "cells": [
  {
   "cell_type": "markdown",
   "id": "2014ed70",
   "metadata": {},
   "source": [
    "### 1 . Basic calss and object"
   ]
  },
  {
   "cell_type": "code",
   "execution_count": 1,
   "id": "0a1ed572",
   "metadata": {},
   "outputs": [
    {
     "data": {
      "text/plain": [
       "'\\ncreate a car class eith attributes like brand and model. \\nthen create an instanve of this class \\n'"
      ]
     },
     "execution_count": 1,
     "metadata": {},
     "output_type": "execute_result"
    }
   ],
   "source": [
    "\"\"\"\n",
    "create a car class eith attributes like brand and model. \n",
    "then create an instanve of this class \n",
    "\"\"\""
   ]
  },
  {
   "cell_type": "code",
   "execution_count": 17,
   "id": "76d56c4d",
   "metadata": {},
   "outputs": [],
   "source": [
    "class car : \n",
    "    def __init__(self , user_brand , user_model ):\n",
    "        self.brand = user_brand \n",
    "        self.model = user_model \n",
    "     \n",
    "    def full_name(self):\n",
    "        return (self.brand , self.model)\n",
    "    \n",
    "my_car = car('toyota' , 'corolla')"
   ]
  },
  {
   "cell_type": "code",
   "execution_count": 18,
   "id": "f0320757",
   "metadata": {},
   "outputs": [
    {
     "name": "stdout",
     "output_type": "stream",
     "text": [
      "toyota corolla\n"
     ]
    }
   ],
   "source": [
    "print(my_car.brand, my_car.model\n",
    "    )"
   ]
  },
  {
   "cell_type": "code",
   "execution_count": 19,
   "id": "d2e51a19",
   "metadata": {},
   "outputs": [],
   "source": [
    "my_new_car = car('tata' , 'safari')"
   ]
  },
  {
   "cell_type": "code",
   "execution_count": 20,
   "id": "b590430d",
   "metadata": {},
   "outputs": [
    {
     "name": "stdout",
     "output_type": "stream",
     "text": [
      "tata safari\n"
     ]
    }
   ],
   "source": [
    "print(my_new_car.brand, my_new_car.model)"
   ]
  },
  {
   "cell_type": "markdown",
   "id": "f8b89c7b",
   "metadata": {},
   "source": [
    "### 2.calss method and self"
   ]
  },
  {
   "cell_type": "code",
   "execution_count": 21,
   "id": "250c3c0b",
   "metadata": {},
   "outputs": [
    {
     "data": {
      "text/plain": [
       "' \\nadd a method to the car calss that displays the full name of \\nthe car ( brand and model )\\n'"
      ]
     },
     "execution_count": 21,
     "metadata": {},
     "output_type": "execute_result"
    }
   ],
   "source": [
    "\"\"\" \n",
    "add a method to the car calss that displays the full name of \n",
    "the car ( brand and model )\n",
    "\"\"\"\n",
    "\n"
   ]
  },
  {
   "cell_type": "code",
   "execution_count": 23,
   "id": "27838a11",
   "metadata": {},
   "outputs": [
    {
     "name": "stdout",
     "output_type": "stream",
     "text": [
      "('toyota', 'corolla')\n"
     ]
    }
   ],
   "source": [
    "print(my_car.full_name())"
   ]
  },
  {
   "cell_type": "markdown",
   "id": "e616aed6",
   "metadata": {},
   "source": [
    "### 3 . Inheritance"
   ]
  },
  {
   "cell_type": "code",
   "execution_count": 24,
   "id": "56acc38a",
   "metadata": {},
   "outputs": [
    {
     "data": {
      "text/plain": [
       "'\\n\\ncreate an electric car class that inherits from the car class and hasaan additional accttricute battry size\\n'"
      ]
     },
     "execution_count": 24,
     "metadata": {},
     "output_type": "execute_result"
    }
   ],
   "source": [
    "\"\"\"\n",
    "\n",
    "create an electric car class that inherits from the car class and hasaan additional accttricute battry size\n",
    "\"\"\""
   ]
  },
  {
   "cell_type": "code",
   "execution_count": 25,
   "id": "cf18ba5f",
   "metadata": {},
   "outputs": [],
   "source": [
    "class electric:\n",
    "    \n",
    "    def __init__(self,battry_size):\n",
    "        self.battry= battry_size"
   ]
  },
  {
   "cell_type": "code",
   "execution_count": 26,
   "id": "dafbba59",
   "metadata": {},
   "outputs": [
    {
     "name": "stdout",
     "output_type": "stream",
     "text": [
      "Variable     Type    Data/Info\n",
      "------------------------------\n",
      "car          type    <class '__main__.car'>\n",
      "electric     type    <class '__main__.electric'>\n",
      "my_car       car     <__main__.car object at 0x0000019360ED2650>\n",
      "my_new_car   car     <__main__.car object at 0x0000019360202990>\n"
     ]
    }
   ],
   "source": [
    "%whos"
   ]
  },
  {
   "cell_type": "code",
   "execution_count": 27,
   "id": "5ef2a5b2",
   "metadata": {},
   "outputs": [],
   "source": [
    "del car, electric , my_car , my_new_car"
   ]
  },
  {
   "cell_type": "code",
   "execution_count": 56,
   "id": "2ef4f23a",
   "metadata": {},
   "outputs": [],
   "source": [
    "class Car() : \n",
    "    \n",
    "    def __init__(self , brand , model ):\n",
    "        self.brand = brand \n",
    "        self.model = model \n",
    "        \n",
    "    def fullname(self):\n",
    "        return f\" {self.model} {self.brand}\""
   ]
  },
  {
   "cell_type": "code",
   "execution_count": 57,
   "id": "0c0959b9",
   "metadata": {},
   "outputs": [],
   "source": [
    "c = Car('tata' , 'punch')"
   ]
  },
  {
   "cell_type": "code",
   "execution_count": 58,
   "id": "e1fac511",
   "metadata": {},
   "outputs": [
    {
     "name": "stdout",
     "output_type": "stream",
     "text": [
      "tata punch\n"
     ]
    }
   ],
   "source": [
    "print(c.brand , c.model)"
   ]
  },
  {
   "cell_type": "code",
   "execution_count": 59,
   "id": "3e96ae42",
   "metadata": {},
   "outputs": [],
   "source": [
    "class ElectricCar(Car):\n",
    "    def __init__(self ,brand , model , battary_size):\n",
    "        super().__init__(brand,model)\n",
    "        self.battary_size = battary_size \n"
   ]
  },
  {
   "cell_type": "code",
   "execution_count": 60,
   "id": "0ad28b2b",
   "metadata": {},
   "outputs": [],
   "source": [
    "c_1 = ElectricCar(\"tesla\" ,\"model s \"  , '85Kwh')"
   ]
  },
  {
   "cell_type": "code",
   "execution_count": 61,
   "id": "6efd1ce8",
   "metadata": {},
   "outputs": [
    {
     "ename": "AttributeError",
     "evalue": "'ElectricCar' object has no attribute 'battry_size'",
     "output_type": "error",
     "traceback": [
      "\u001b[1;31m---------------------------------------------------------------------------\u001b[0m",
      "\u001b[1;31mAttributeError\u001b[0m                            Traceback (most recent call last)",
      "Cell \u001b[1;32mIn[61], line 1\u001b[0m\n\u001b[1;32m----> 1\u001b[0m \u001b[38;5;28mprint\u001b[39m(c_1\u001b[38;5;241m.\u001b[39mmodel , c_1\u001b[38;5;241m.\u001b[39mbrand , c_1\u001b[38;5;241m.\u001b[39mbattry_size)\n",
      "\u001b[1;31mAttributeError\u001b[0m: 'ElectricCar' object has no attribute 'battry_size'"
     ]
    }
   ],
   "source": [
    "print(c_1.model , c_1.brand , c_1.battry_size)"
   ]
  },
  {
   "cell_type": "code",
   "execution_count": 62,
   "id": "700592a4",
   "metadata": {},
   "outputs": [
    {
     "name": "stdout",
     "output_type": "stream",
     "text": [
      " MOdel s  Tesla \n",
      "MOdel s  Tesla   85Kwh\n"
     ]
    }
   ],
   "source": [
    "class Car:\n",
    "    def __init__(self , model , brand):\n",
    "        self.model = model \n",
    "        self.brand= brand\n",
    "        \n",
    "    def fullname(self):\n",
    "        return f\" {self.model } { self.brand}\"\n",
    "class ElectricCar(Car):\n",
    "    \n",
    "    def __init__(self, model , brand , bttry):\n",
    "        super().__init__(model , brand)\n",
    "        self.bttry = bttry\n",
    "\n",
    "c= ElectricCar('MOdel s' , ' Tesla ' , ' 85Kwh')\n",
    "print(c.fullname())\n",
    "print(c.model , c.brand , c.bttry)"
   ]
  },
  {
   "cell_type": "markdown",
   "id": "a82225c7",
   "metadata": {},
   "source": [
    "### Encapsulation"
   ]
  },
  {
   "cell_type": "code",
   "execution_count": 46,
   "id": "3156d6a6",
   "metadata": {},
   "outputs": [
    {
     "name": "stdout",
     "output_type": "stream",
     "text": [
      "model s \n"
     ]
    }
   ],
   "source": []
  },
  {
   "cell_type": "code",
   "execution_count": null,
   "id": "bb54abe9",
   "metadata": {},
   "outputs": [],
   "source": []
  }
 ],
 "metadata": {
  "kernelspec": {
   "display_name": "Python 3 (ipykernel)",
   "language": "python",
   "name": "python3"
  },
  "language_info": {
   "codemirror_mode": {
    "name": "ipython",
    "version": 3
   },
   "file_extension": ".py",
   "mimetype": "text/x-python",
   "name": "python",
   "nbconvert_exporter": "python",
   "pygments_lexer": "ipython3",
   "version": "3.11.4"
  }
 },
 "nbformat": 4,
 "nbformat_minor": 5
}
