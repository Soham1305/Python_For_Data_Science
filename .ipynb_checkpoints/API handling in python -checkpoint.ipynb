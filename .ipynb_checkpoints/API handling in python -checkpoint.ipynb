{
 "cells": [
  {
   "cell_type": "code",
   "execution_count": 1,
   "id": "1073ba06",
   "metadata": {
    "scrolled": true
   },
   "outputs": [
    {
     "name": "stdout",
     "output_type": "stream",
     "text": [
      "Requirement already satisfied: requests in d:\\workplace\\machine learning\\anaconda\\anaconda3\\lib\\site-packages (2.31.0)\n",
      "Requirement already satisfied: charset-normalizer<4,>=2 in d:\\workplace\\machine learning\\anaconda\\anaconda3\\lib\\site-packages (from requests) (2.0.4)\n",
      "Requirement already satisfied: idna<4,>=2.5 in d:\\workplace\\machine learning\\anaconda\\anaconda3\\lib\\site-packages (from requests) (3.4)\n",
      "Requirement already satisfied: urllib3<3,>=1.21.1 in d:\\workplace\\machine learning\\anaconda\\anaconda3\\lib\\site-packages (from requests) (1.26.16)\n",
      "Requirement already satisfied: certifi>=2017.4.17 in d:\\workplace\\machine learning\\anaconda\\anaconda3\\lib\\site-packages (from requests) (2023.7.22)\n",
      "Note: you may need to restart the kernel to use updated packages.\n"
     ]
    }
   ],
   "source": [
    "pip install requests"
   ]
  },
  {
   "cell_type": "code",
   "execution_count": 2,
   "id": "ad03ce22",
   "metadata": {},
   "outputs": [
    {
     "name": "stdout",
     "output_type": "stream",
     "text": [
      "Requirement already satisfied: requests in d:\\workplace\\machine learning\\anaconda\\anaconda3\\lib\\site-packages (2.31.0)\n",
      "Requirement already satisfied: charset-normalizer<4,>=2 in d:\\workplace\\machine learning\\anaconda\\anaconda3\\lib\\site-packages (from requests) (2.0.4)\n",
      "Requirement already satisfied: idna<4,>=2.5 in d:\\workplace\\machine learning\\anaconda\\anaconda3\\lib\\site-packages (from requests) (3.4)\n",
      "Requirement already satisfied: urllib3<3,>=1.21.1 in d:\\workplace\\machine learning\\anaconda\\anaconda3\\lib\\site-packages (from requests) (1.26.16)\n",
      "Requirement already satisfied: certifi>=2017.4.17 in d:\\workplace\\machine learning\\anaconda\\anaconda3\\lib\\site-packages (from requests) (2023.7.22)\n",
      "Note: you may need to restart the kernel to use updated packages.\n"
     ]
    }
   ],
   "source": [
    "pip install requests "
   ]
  },
  {
   "cell_type": "code",
   "execution_count": 3,
   "id": "ef13b9d5",
   "metadata": {},
   "outputs": [],
   "source": [
    "import time"
   ]
  },
  {
   "cell_type": "code",
   "execution_count": 4,
   "id": "ae7f8e63",
   "metadata": {},
   "outputs": [],
   "source": [
    "def timer(func):\n",
    "    def wrapper(*args , **kwargs):\n",
    "        start = time.time()\n",
    "        result= func(*args , **kwargs )\n",
    "        end = time.time() #user time perf.counter() for get more accurate resut becase it's use the CPU clock freequncy to compute the result \n",
    "        ex_time = end -start \n",
    "        return f\" the function {func.__name__} Gives  Result : { result } , which take execution time of { ex_time}\"\n",
    "    return wrapper"
   ]
  },
  {
   "cell_type": "code",
   "execution_count": 5,
   "id": "859c533a",
   "metadata": {},
   "outputs": [],
   "source": [
    "@timer \n",
    "def test1(*args):\n",
    "     return sum(args)\n"
   ]
  },
  {
   "cell_type": "code",
   "execution_count": 6,
   "id": "68877788",
   "metadata": {},
   "outputs": [
    {
     "name": "stdout",
     "output_type": "stream",
     "text": [
      "[1, 4, 27, 256, 3125, 46656, 823543, 16777216, 387420489]\n",
      " the function test1 Gives  Result : 405071317 , which take execution time of 0.0\n"
     ]
    }
   ],
   "source": [
    "test_list = [x**x for x in range(1,10)]\n",
    "print(test_list)\n",
    "print(test1(*test_list))  # inorder to passs list as an argument you need to pass it as a *list_name other wise python takes it as a single argumetn and during the function excution we get error because during the function execution python convert all input in to tuple and we can't add list variable whcih present inside the tuple to the normal variable  "
   ]
  },
  {
   "cell_type": "code",
   "execution_count": 30,
   "id": "fb290dca",
   "metadata": {},
   "outputs": [],
   "source": [
    "import requests as r \n",
    "import json"
   ]
  },
  {
   "cell_type": "code",
   "execution_count": 63,
   "id": "164b5724",
   "metadata": {},
   "outputs": [],
   "source": [
    "# always remember one thing check API documetation 10 times before you put in code , my be developer forgot to change the documentation \n",
    "@timer\n",
    "def fatch_data_from_url(link ):\n",
    "    response = r.get(link)\n",
    "    data = response.json()\n",
    "    if data['statusCode'] == 200 : \n",
    "        try : \n",
    "            if data['success'] and 'data' in data :\n",
    "                user_data = data['data']['login']\n",
    "                user_id = user_data['username']\n",
    "                password= user_data['password']\n",
    "        except Exception as e : \n",
    "            print(\"There is some error  : \")\n",
    "    else:\n",
    "        raise Exception(\"Failed to Fatch user data \")\n",
    "    \n",
    "    return f\" here the id is { user_id} and the Password  is {password}\"\n",
    "\n",
    "# @timer \n",
    "# def fatch_data_from_url(link):\n",
    "#     response = r.get(link)\n",
    "#     r_data = None \n",
    "#     if response.status_code == 200 : \n",
    "#         try : \n",
    "#             r_data = response.json()\n",
    "#             print(\"this code fatched succesfully \")\n",
    "            \n",
    "#         except Exception as e :\n",
    "#             print(\"this code not fatch succesfully due some error may be don't have the executable foramte \")\n",
    "            \n",
    "#     return r_data\n"
   ]
  },
  {
   "cell_type": "code",
   "execution_count": 65,
   "id": "82585a8e",
   "metadata": {
    "scrolled": true
   },
   "outputs": [
    {
     "name": "stdout",
     "output_type": "stream",
     "text": [
      " the function fatch_data_from_url Gives  Result :  here the id is bigleopard480 and the Password  is kenwood , which take execution time of 21.334371089935303\n",
      " the function fatch_data_from_url Gives  Result :  here the id is bigleopard480 and the Password  is kenwood , which take execution time of 21.38770890235901\n",
      " the function fatch_data_from_url Gives  Result :  here the id is bigleopard480 and the Password  is kenwood , which take execution time of 21.38029432296753\n",
      " the function fatch_data_from_url Gives  Result :  here the id is bigleopard480 and the Password  is kenwood , which take execution time of 21.34810781478882\n",
      " the function fatch_data_from_url Gives  Result :  here the id is bigleopard480 and the Password  is kenwood , which take execution time of 21.39425230026245\n",
      " the function fatch_data_from_url Gives  Result :  here the id is bigleopard480 and the Password  is kenwood , which take execution time of 21.40388536453247\n",
      " the function fatch_data_from_url Gives  Result :  here the id is bigleopard480 and the Password  is kenwood , which take execution time of 21.41743516921997\n",
      " the function fatch_data_from_url Gives  Result :  here the id is bigleopard480 and the Password  is kenwood , which take execution time of 21.347368717193604\n",
      " the function fatch_data_from_url Gives  Result :  here the id is bigleopard480 and the Password  is kenwood , which take execution time of 21.368313789367676\n",
      " the function fatch_data_from_url Gives  Result :  here the id is bigleopard480 and the Password  is kenwood , which take execution time of 21.3725848197937\n"
     ]
    }
   ],
   "source": [
    "for i in range(1,11):\n",
    "    try : \n",
    "        print(fatch_data_from_url(\"\"\"https://api.freeapi.app/api/v1/public/randomusers/13\"\"\"))\n",
    "    except Exception as e :\n",
    "        print(\"There is a some error while Fartching the data from this API check the Formate and return type of the API\")"
   ]
  },
  {
   "cell_type": "code",
   "execution_count": 68,
   "id": "7302eca7",
   "metadata": {},
   "outputs": [],
   "source": [
    "@timer\n",
    "def test2(**kwargs):\n",
    "    for k,v in kwargs.items():\n",
    "        print(f\"the key is : {k} and the value is :{v}\")"
   ]
  },
  {
   "cell_type": "code",
   "execution_count": 69,
   "id": "630a67d8",
   "metadata": {},
   "outputs": [],
   "source": [
    "name = \"Soham Piprotar \""
   ]
  },
  {
   "cell_type": "code",
   "execution_count": 70,
   "id": "35537af9",
   "metadata": {},
   "outputs": [],
   "source": [
    "from collections import defaultdict , Counter"
   ]
  },
  {
   "cell_type": "code",
   "execution_count": 75,
   "id": "28adb15c",
   "metadata": {},
   "outputs": [],
   "source": [
    "char_counter= defaultdict(int)"
   ]
  },
  {
   "cell_type": "code",
   "execution_count": 76,
   "id": "c1a448a9",
   "metadata": {},
   "outputs": [],
   "source": [
    "for i in name :\n",
    "    char_counter[i] += 1 "
   ]
  },
  {
   "cell_type": "code",
   "execution_count": 80,
   "id": "5ed3a4f3",
   "metadata": {},
   "outputs": [
    {
     "name": "stdout",
     "output_type": "stream",
     "text": [
      "the key is : S and the value is :1\n",
      "the key is : o and the value is :2\n",
      "the key is : h and the value is :1\n",
      "the key is : a and the value is :2\n",
      "the key is : m and the value is :1\n",
      "the key is :   and the value is :2\n",
      "the key is : P and the value is :1\n",
      "the key is : i and the value is :1\n",
      "the key is : p and the value is :1\n",
      "the key is : r and the value is :2\n",
      "the key is : t and the value is :1\n"
     ]
    }
   ],
   "source": [
    "\n",
    "for k,v in char_counter.items():\n",
    "    print(f\"the key is : {k} and the value is :{v}\")"
   ]
  },
  {
   "cell_type": "code",
   "execution_count": 81,
   "id": "4467d58b",
   "metadata": {},
   "outputs": [
    {
     "name": "stdout",
     "output_type": "stream",
     "text": [
      "the key is : S and the value is :1\n",
      "the key is : o and the value is :2\n",
      "the key is : h and the value is :1\n",
      "the key is : a and the value is :2\n",
      "the key is : m and the value is :1\n",
      "the key is :   and the value is :2\n",
      "the key is : P and the value is :1\n",
      "the key is : i and the value is :1\n",
      "the key is : p and the value is :1\n",
      "the key is : r and the value is :2\n",
      "the key is : t and the value is :1\n",
      " the function test2 Gives  Result : None , which take execution time of 0.0\n"
     ]
    }
   ],
   "source": [
    "print(test2(**char_counter))"
   ]
  },
  {
   "cell_type": "code",
   "execution_count": 82,
   "id": "0b2b4d7c",
   "metadata": {},
   "outputs": [],
   "source": [
    "t_data = ( 1, 2, 3 , 4, 5, 6, 67, 8)"
   ]
  },
  {
   "cell_type": "code",
   "execution_count": 83,
   "id": "43ebbfc8",
   "metadata": {},
   "outputs": [
    {
     "name": "stdout",
     "output_type": "stream",
     "text": [
      " the function test1 Gives  Result : 96 , which take execution time of 0.0\n"
     ]
    }
   ],
   "source": [
    "print(test1(*t_data))"
   ]
  },
  {
   "cell_type": "code",
   "execution_count": null,
   "id": "0bfb0f65",
   "metadata": {},
   "outputs": [],
   "source": []
  }
 ],
 "metadata": {
  "kernelspec": {
   "display_name": "Python 3 (ipykernel)",
   "language": "python",
   "name": "python3"
  },
  "language_info": {
   "codemirror_mode": {
    "name": "ipython",
    "version": 3
   },
   "file_extension": ".py",
   "mimetype": "text/x-python",
   "name": "python",
   "nbconvert_exporter": "python",
   "pygments_lexer": "ipython3",
   "version": "3.11.4"
  }
 },
 "nbformat": 4,
 "nbformat_minor": 5
}
