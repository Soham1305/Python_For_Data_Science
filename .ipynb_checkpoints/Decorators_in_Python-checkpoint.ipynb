{
 "cells": [
  {
   "cell_type": "code",
   "execution_count": 1,
   "id": "90f2f9a5",
   "metadata": {},
   "outputs": [],
   "source": [
    "#Decortaors is like ToolBooth "
   ]
  },
  {
   "cell_type": "markdown",
   "id": "5e6f6a23",
   "metadata": {},
   "source": [
    "### Timing Function execution "
   ]
  },
  {
   "cell_type": "code",
   "execution_count": 2,
   "id": "91d4b02e",
   "metadata": {},
   "outputs": [
    {
     "data": {
      "text/plain": [
       "'\\nwrite a decorator that measures the time a function takes to execute \\n'"
      ]
     },
     "execution_count": 2,
     "metadata": {},
     "output_type": "execute_result"
    }
   ],
   "source": [
    "\"\"\"\n",
    "write a decorator that measures the time a function takes to execute \n",
    "\"\"\""
   ]
  },
  {
   "cell_type": "code",
   "execution_count": 3,
   "id": "d4bf36ec",
   "metadata": {},
   "outputs": [],
   "source": [
    "import time "
   ]
  },
  {
   "cell_type": "code",
   "execution_count": 4,
   "id": "9231fc34",
   "metadata": {},
   "outputs": [],
   "source": [
    "def timer(func):\n",
    "    def wrapper(*args, **kwargs):\n",
    "        start = time.time()\n",
    "        result = func(*args,**kwargs)\n",
    "        end = time.time()\n",
    "        print(f\"{func.__name__} ran in {end-start} time\")\n",
    "        return result \n",
    "    return wrapper "
   ]
  },
  {
   "cell_type": "code",
   "execution_count": 5,
   "id": "fab2138c",
   "metadata": {},
   "outputs": [],
   "source": [
    "@timer\n",
    "def example_function(n):\n",
    "    time.sleep(n)\n"
   ]
  },
  {
   "cell_type": "code",
   "execution_count": 6,
   "id": "7d43002c",
   "metadata": {},
   "outputs": [
    {
     "name": "stdout",
     "output_type": "stream",
     "text": [
      "example_function ran in 2.0022192001342773 time\n"
     ]
    }
   ],
   "source": [
    "example_function(2)"
   ]
  },
  {
   "cell_type": "markdown",
   "id": "68cd5162",
   "metadata": {},
   "source": [
    "### Debugging Function Call "
   ]
  },
  {
   "cell_type": "code",
   "execution_count": 7,
   "id": "f5947c30",
   "metadata": {},
   "outputs": [],
   "source": [
    "# Create a decotator to print the fucntion name and the valurs fo it's arfuments ebery time the fuction is called "
   ]
  },
  {
   "cell_type": "code",
   "execution_count": 8,
   "id": "6c07ed80",
   "metadata": {},
   "outputs": [],
   "source": [
    "def debug(func):\n",
    "    def wrapper(*args , **kwargs):\n",
    "        args_value =', '.join(str(arg) for arg in args)\n",
    "        kwargs_value =', '.join(f\"{k}={v}\"for k,v in kwargs.items())\n",
    "        print(f\"calling:  {func.__name__} with args {args_value} and kwargs {kwargs_value}\")\n",
    "        return func(*args , **kwargs)\n",
    "    return wrapper # we returns the deination of the wrapper "
   ]
  },
  {
   "cell_type": "code",
   "execution_count": 9,
   "id": "c253a9d6",
   "metadata": {},
   "outputs": [],
   "source": [
    "@debug\n",
    "def greet(name , greeting=\"hello\"):\n",
    "    print(f\"{greeting} ,{name}\")"
   ]
  },
  {
   "cell_type": "code",
   "execution_count": 10,
   "id": "f6a7909d",
   "metadata": {},
   "outputs": [
    {
     "name": "stdout",
     "output_type": "stream",
     "text": [
      "calling:  greet with args soham and kwargs greeting=good morning \n",
      "good morning  ,soham\n"
     ]
    }
   ],
   "source": [
    "greet(\"soham\" , greeting=\"good morning \")"
   ]
  },
  {
   "cell_type": "markdown",
   "id": "66a9225b",
   "metadata": {},
   "source": [
    "#### Practice the decorator "
   ]
  },
  {
   "cell_type": "code",
   "execution_count": 11,
   "id": "bd8148d1",
   "metadata": {},
   "outputs": [],
   "source": [
    "# making a  decorator that retuens the name of the function and returns it's allarguments which is inside the function "
   ]
  },
  {
   "cell_type": "code",
   "execution_count": 12,
   "id": "450ece27",
   "metadata": {},
   "outputs": [],
   "source": [
    "def val(func):\n",
    "    def wrapper(*args , **kwargs):\n",
    "        no_args = ', '.join(str(arg) for arg in args )\n",
    "        no_kwargs = ', '.join(f\"{k} = {v} \" for k,v in kwargs.items())\n",
    "        return f\" The name of the function is {func.__name__} , the fucntion take an args like {no_args} and fucntion take kwargs like { no_kwargs}\" \n",
    "    return wrapper"
   ]
  },
  {
   "cell_type": "code",
   "execution_count": 13,
   "id": "0dc2b065",
   "metadata": {},
   "outputs": [],
   "source": [
    "@val\n",
    "def hello2(name , age = 0 ):\n",
    "    print(name , \" your current age is : \" , age )"
   ]
  },
  {
   "cell_type": "code",
   "execution_count": 14,
   "id": "4108df3c",
   "metadata": {},
   "outputs": [
    {
     "data": {
      "text/plain": [
       "' The name of the function is hello2 , the fucntion take an args like soham  and fucntion take kwargs like age = 99 '"
      ]
     },
     "execution_count": 14,
     "metadata": {},
     "output_type": "execute_result"
    }
   ],
   "source": [
    "hello2(\"soham \" , age = 99 )"
   ]
  },
  {
   "cell_type": "markdown",
   "id": "f6d3685f",
   "metadata": {},
   "source": [
    "### Cache return values "
   ]
  },
  {
   "cell_type": "code",
   "execution_count": 15,
   "id": "3123cb78",
   "metadata": {},
   "outputs": [],
   "source": [
    "# implement a decotator that caches the retur values of a function  ,soham that when it's called with the same arguments , the cached value is returned instead of re-executing the function "
   ]
  },
  {
   "cell_type": "code",
   "execution_count": 37,
   "id": "93ed8837",
   "metadata": {},
   "outputs": [],
   "source": [
    "# always remember that disctionary acts as a database in problem solving in python\n",
    "\n",
    "def cache(func):\n",
    "    cache_value ={}\n",
    "    print(cache_value)\n",
    "    def wrapper(*args , **kwargs):\n",
    "        if args in cache_value:\n",
    "            return cache_value[args]\n",
    "        result = func(*args , **kwargs)\n",
    "        cache_value[args] = result \n",
    "        return result \n",
    "    return wrapper "
   ]
  },
  {
   "cell_type": "code",
   "execution_count": 38,
   "id": "c7691745",
   "metadata": {},
   "outputs": [
    {
     "name": "stdout",
     "output_type": "stream",
     "text": [
      "{}\n"
     ]
    }
   ],
   "source": [
    "@cache\n",
    "def long_running_function(a, b ):\n",
    "    time.sleep(4)\n",
    "    return a+b"
   ]
  },
  {
   "cell_type": "code",
   "execution_count": 39,
   "id": "f26d5efa",
   "metadata": {},
   "outputs": [
    {
     "name": "stdout",
     "output_type": "stream",
     "text": [
      "11\n",
      "11\n",
      "12\n",
      "12\n",
      "13\n"
     ]
    }
   ],
   "source": [
    "print(long_running_function(5, 6))\n",
    "print(long_running_function(5, 6))\n",
    "print(long_running_function(5, 7))\n",
    "print(long_running_function(5, 7))\n",
    "print(long_running_function(5, 8))"
   ]
  },
  {
   "cell_type": "code",
   "execution_count": null,
   "id": "08a97371",
   "metadata": {},
   "outputs": [],
   "source": []
  }
 ],
 "metadata": {
  "kernelspec": {
   "display_name": "Python 3 (ipykernel)",
   "language": "python",
   "name": "python3"
  },
  "language_info": {
   "codemirror_mode": {
    "name": "ipython",
    "version": 3
   },
   "file_extension": ".py",
   "mimetype": "text/x-python",
   "name": "python",
   "nbconvert_exporter": "python",
   "pygments_lexer": "ipython3",
   "version": "3.11.4"
  }
 },
 "nbformat": 4,
 "nbformat_minor": 5
}
