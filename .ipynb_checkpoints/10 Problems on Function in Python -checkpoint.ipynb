{
 "cells": [
  {
   "cell_type": "markdown",
   "id": "e303ddc4",
   "metadata": {},
   "source": [
    "### 1. Basic Function syntax "
   ]
  },
  {
   "cell_type": "code",
   "execution_count": 2,
   "id": "24ab1f2f",
   "metadata": {},
   "outputs": [
    {
     "name": "stdout",
     "output_type": "stream",
     "text": [
      "enter the number that you want to find square : 5\n",
      "25\n"
     ]
    }
   ],
   "source": [
    "# to calculate and return the square of the numbers \n",
    "\n",
    "def square(n):\n",
    "    return n**2 \n",
    "\n",
    "num = int(input(\"enter the number that you want to find square : \"))\n",
    "\n",
    "print(square(num))\n",
    "\n",
    "del square , num "
   ]
  },
  {
   "cell_type": "markdown",
   "id": "43f2b747",
   "metadata": {},
   "source": [
    "### 2. Create a function with multiple peramenters "
   ]
  },
  {
   "cell_type": "code",
   "execution_count": 3,
   "id": "895cf2ae",
   "metadata": {},
   "outputs": [
    {
     "name": "stdout",
     "output_type": "stream",
     "text": [
      "enter the num 1 : 5\n",
      "enter teh num 2 : 5\n",
      "10\n"
     ]
    }
   ],
   "source": [
    "#take two numbers perameters and returns their sum ; \n",
    "\n",
    "def sum(a , b ):\n",
    "    return a+b \n",
    "\n",
    "num_1 = int(input(\"enter the num 1 : \"))\n",
    "num_2 = int(input(\"enter teh num 2 : \"))\n",
    "\n",
    "print(sum(num_1,num_2))\n",
    "\n",
    "del num_1,num_2,sum"
   ]
  },
  {
   "cell_type": "markdown",
   "id": "f8ce1b5e",
   "metadata": {},
   "source": [
    "### 3.Polymorphism in function "
   ]
  },
  {
   "cell_type": "code",
   "execution_count": 19,
   "id": "cb2fcdea",
   "metadata": {},
   "outputs": [
    {
     "name": "stdout",
     "output_type": "stream",
     "text": [
      "enter the value 1 : 10\n",
      "enter the value 2 : 10\n",
      "100\n"
     ]
    }
   ],
   "source": [
    "# multiply two numbers as well as two strings \n",
    "\n",
    "def mul(a , b):\n",
    "    \n",
    "    try:\n",
    "        a_int = int(a)\n",
    "        b_int = int(b)\n",
    "        return a_int*b_int \n",
    "    \n",
    "    except ValueError:\n",
    "        return \"Invalide input \"\n",
    "    \n",
    "val_1 = input(\"enter the value 1 : \")\n",
    "val_2 = input(\"enter the value 2 : \")\n",
    "\n",
    "print(mul(val_1,val_2))\n",
    "\n",
    "del val_1 ,val_2 , mul\n"
   ]
  },
  {
   "cell_type": "markdown",
   "id": "1969f5ec",
   "metadata": {},
   "source": [
    "### 4 . Function returning the multiple values : "
   ]
  },
  {
   "cell_type": "code",
   "execution_count": 22,
   "id": "f6ae0115",
   "metadata": {},
   "outputs": [
    {
     "name": "stdout",
     "output_type": "stream",
     "text": [
      "enter the redius of the circle : 4.23232\n",
      "(56.27388076805563, 26.592450839282304)\n"
     ]
    }
   ],
   "source": [
    "# returns a both area and cirsumference of a given cirle redius \n",
    "\n",
    "import math \n",
    "\n",
    "def op(r):\n",
    "    return ((r**2)*math.pi,(2*math.pi*r))\n",
    "\n",
    "r = float(input(\"enter the redius of the circle : \"))\n",
    "\n",
    "print(op(r))\n",
    "del op , r"
   ]
  },
  {
   "cell_type": "markdown",
   "id": "eff7444d",
   "metadata": {},
   "source": [
    "### 5.Default perameter value "
   ]
  },
  {
   "cell_type": "code",
   "execution_count": 38,
   "id": "fc6f7d04",
   "metadata": {},
   "outputs": [
    {
     "name": "stdout",
     "output_type": "stream",
     "text": [
      "enter the value soham\n",
      " Good Morning ! , soham\n",
      " Good Morning ! , user \n"
     ]
    }
   ],
   "source": [
    "# write a perameter which greet the user when there is no value is given it's greet by the default neme \n",
    "\n",
    "def greet(val = \"user \"):\n",
    "    return f\" Good Morning ! , {val}\"\n",
    "\n",
    "val = input(\"enter the value \")\n",
    "\n",
    "print(greet(val))\n",
    "print(greet())\n",
    "\n",
    "del val , greet"
   ]
  },
  {
   "cell_type": "markdown",
   "id": "f1bfb50c",
   "metadata": {},
   "source": [
    "### 6 . Lamda Function "
   ]
  },
  {
   "cell_type": "code",
   "execution_count": null,
   "id": "75cea5b9",
   "metadata": {},
   "outputs": [],
   "source": []
  },
  {
   "cell_type": "code",
   "execution_count": 37,
   "id": "5018bcd7",
   "metadata": {},
   "outputs": [
    {
     "name": "stdout",
     "output_type": "stream",
     "text": [
      "enter the number  : 3\n",
      "27\n"
     ]
    }
   ],
   "source": [
    "# create a lamda function to compute a cube of the number \n",
    "\n",
    "num = int(input(\"enter the number  : \"))\n",
    "\n",
    "cube = lambda x: x**3 \n",
    "    \n",
    "print(cube(num))\n",
    "del num , cube"
   ]
  },
  {
   "cell_type": "markdown",
   "id": "7f3c5cfb",
   "metadata": {},
   "source": [
    "### 7.Function with *args"
   ]
  },
  {
   "cell_type": "code",
   "execution_count": 36,
   "id": "f5d31dce",
   "metadata": {},
   "outputs": [
    {
     "name": "stdout",
     "output_type": "stream",
     "text": [
      "15\n"
     ]
    }
   ],
   "source": [
    "# function return the sum of input given arguments  \n",
    "\n",
    "def custom_sum(*a):\n",
    "    total = 0 ;\n",
    "    for i in a : \n",
    "        total += i \n",
    "    return total\n",
    "print(custom_sum(1, 2, 3, 4, 5))\n",
    "\n",
    "del custom_sum\n"
   ]
  },
  {
   "cell_type": "markdown",
   "id": "07f5159a",
   "metadata": {},
   "source": [
    "### 8 .  Function with **kwargs "
   ]
  },
  {
   "cell_type": "code",
   "execution_count": 40,
   "id": "e9c56b74",
   "metadata": {},
   "outputs": [
    {
     "name": "stdout",
     "output_type": "stream",
     "text": [
      "name:soham\n",
      "Enrollment_no:210200111091\n",
      "age:20\n",
      "None\n"
     ]
    }
   ],
   "source": [
    "# practiceing the user define argument at the diffrent order in the function \n",
    "\n",
    "def fff(**kwargs):\n",
    "    for key,value in kwargs.items():\n",
    "        print(f'{key}:{value}')\n",
    "    \n",
    "print(fff(name= \"soham\",Enrollment_no = 210200111091 , age = '20'))"
   ]
  },
  {
   "cell_type": "markdown",
   "id": "086ff93d",
   "metadata": {},
   "source": [
    "###  9 . Generator Function with Yeild"
   ]
  },
  {
   "cell_type": "code",
   "execution_count": 45,
   "id": "481b4443",
   "metadata": {},
   "outputs": [
    {
     "name": "stdout",
     "output_type": "stream",
     "text": [
      "2\n",
      "4\n",
      "6\n",
      "8\n",
      "10\n"
     ]
    }
   ],
   "source": [
    "# wirte a python function that yeilds the even numbers up to specific limit\n",
    "\n",
    "def even_generator(nums):\n",
    "    for i in range(1,nums+1):\n",
    "        if i % 2 ==0 :\n",
    "            yield i \n",
    "    \n",
    "for i in even_generator(10):\n",
    "    print(i)"
   ]
  },
  {
   "cell_type": "code",
   "execution_count": 43,
   "id": "0f9aeb71",
   "metadata": {},
   "outputs": [
    {
     "name": "stdout",
     "output_type": "stream",
     "text": [
      "Adding carrots to the soup...\n",
      "Enjoy your Bowl of soup with carrots!\n",
      "Adding potatoes to the soup...\n",
      "Enjoy your Bowl of soup with potatoes!\n",
      "Adding broccoli to the soup...\n",
      "Enjoy your Bowl of soup with broccoli!\n"
     ]
    }
   ],
   "source": [
    "# other example \n",
    "def make_soup(ingredients):\n",
    "  # Simulate cooking each ingredient\n",
    "  for ingredient in ingredients:\n",
    "    print(f\"Adding {ingredient} to the soup...\")\n",
    "    yield f\"Bowl of soup with {ingredient}\"  # Yield one bowl at a time\n",
    "\n",
    "# Call the function (but it doesn't cook yet!)\n",
    "soup_maker = make_soup([\"carrots\", \"potatoes\", \"broccoli\"])\n",
    "\n",
    "# Ask for bowls of soup (one by one)\n",
    "for bowl in soup_maker:\n",
    "  print(f\"Enjoy your {bowl}!\")\n",
    "# by google gimini "
   ]
  },
  {
   "cell_type": "markdown",
   "id": "0a8c27a3",
   "metadata": {},
   "source": [
    "### 10 .Recursive function "
   ]
  },
  {
   "cell_type": "code",
   "execution_count": 47,
   "id": "1c27cdab",
   "metadata": {},
   "outputs": [
    {
     "name": "stdout",
     "output_type": "stream",
     "text": [
      "Enter the  number : 2\n",
      "2\n"
     ]
    }
   ],
   "source": [
    "# create a recursive function to calculate the factorial of the numbers \n",
    "\n",
    "def rec_fac(n):\n",
    "    if n == 1 :\n",
    "        return 1 \n",
    "    return n*rec_fac(n-1)\n",
    "\n",
    "num = int(input(\"Enter the  number : \"))\n",
    "\n",
    "print(rec_fac(num))\n",
    "\n",
    "del rec_fac , num "
   ]
  },
  {
   "cell_type": "markdown",
   "id": "d999cb43",
   "metadata": {},
   "source": [
    "### yeild practice queation 1 "
   ]
  },
  {
   "cell_type": "code",
   "execution_count": 11,
   "id": "1c8475b5",
   "metadata": {},
   "outputs": [],
   "source": [
    "def s_gen(n):\n",
    "    for i in range(n):\n",
    "        yield i*i;\n",
    "    \n",
    "s = s_gen(10)"
   ]
  },
  {
   "cell_type": "code",
   "execution_count": 13,
   "id": "d57706f3",
   "metadata": {},
   "outputs": [],
   "source": [
    "for i in s :\n",
    "    print(i)\n",
    "    if i == 0:\n",
    "        type(i)"
   ]
  },
  {
   "cell_type": "markdown",
   "id": "2f82f14c",
   "metadata": {},
   "source": [
    "### Yield practce queation 2 "
   ]
  },
  {
   "cell_type": "code",
   "execution_count": 21,
   "id": "3382de5a",
   "metadata": {},
   "outputs": [],
   "source": [
    "# number doubler \n",
    "\n",
    "def num_d(n):\n",
    "    for i in range(0,n):\n",
    "        yield i*2\n",
    "        \n",
    "s = num_d(10)"
   ]
  },
  {
   "cell_type": "code",
   "execution_count": 25,
   "id": "a534b4fd",
   "metadata": {},
   "outputs": [
    {
     "name": "stdout",
     "output_type": "stream",
     "text": [
      "<generator object num_d at 0x000002A91947A180>\n"
     ]
    }
   ],
   "source": [
    "for i in s:\n",
    "    print(i)\n",
    "print(s)"
   ]
  },
  {
   "cell_type": "markdown",
   "id": "30632987",
   "metadata": {},
   "source": [
    "### Yield practice queation  3"
   ]
  },
  {
   "cell_type": "code",
   "execution_count": 26,
   "id": "d24d30a1",
   "metadata": {},
   "outputs": [
    {
     "name": "stdout",
     "output_type": "stream",
     "text": [
      "s\n",
      "O\n",
      "H\n",
      "a\n",
      "M\n"
     ]
    }
   ],
   "source": [
    "# latter inverter : \n",
    "\n",
    "def inve(s):\n",
    "    for i in s : \n",
    "        if i.isupper():\n",
    "            yield i.lower() \n",
    "        else :\n",
    "            yield i.upper()\n",
    "            \n",
    "v = inve(\"SohAm\")\n",
    "\n",
    "for i in v :\n",
    "    print(i)"
   ]
  },
  {
   "cell_type": "code",
   "execution_count": null,
   "id": "1b30cb07",
   "metadata": {},
   "outputs": [],
   "source": []
  }
 ],
 "metadata": {
  "kernelspec": {
   "display_name": "Python 3 (ipykernel)",
   "language": "python",
   "name": "python3"
  },
  "language_info": {
   "codemirror_mode": {
    "name": "ipython",
    "version": 3
   },
   "file_extension": ".py",
   "mimetype": "text/x-python",
   "name": "python",
   "nbconvert_exporter": "python",
   "pygments_lexer": "ipython3",
   "version": "3.11.4"
  }
 },
 "nbformat": 4,
 "nbformat_minor": 5
}
