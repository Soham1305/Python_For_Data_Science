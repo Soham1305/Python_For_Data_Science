{
 "cells": [
  {
   "cell_type": "code",
   "execution_count": 3,
   "id": "672cfc1d",
   "metadata": {},
   "outputs": [
    {
     "name": "stdout",
     "output_type": "stream",
     "text": [
      "soham piprotar \n",
      " piprotar soham dineshabhai\n"
     ]
    }
   ],
   "source": [
    "username = \"soham piprotar \"\n",
    "\n",
    "def func():\n",
    "    #username = ' piprotar soham dineshabhai'\n",
    "    return username\n",
    "    \n",
    "print(username)\n",
    "print(func())\n"
   ]
  },
  {
   "cell_type": "code",
   "execution_count": 6,
   "id": "bc9f6383",
   "metadata": {},
   "outputs": [
    {
     "name": "stdout",
     "output_type": "stream",
     "text": [
      "Variable   Type        Data/Info\n",
      "--------------------------------\n",
      "func       function    <function func at 0x000001A93E5D9EE0>\n",
      "username   str         soham piprotar \n"
     ]
    }
   ],
   "source": [
    "%whos\n",
    "x = 11 "
   ]
  },
  {
   "cell_type": "code",
   "execution_count": 7,
   "id": "daa7af9d",
   "metadata": {},
   "outputs": [],
   "source": [
    "def func2(y):\n",
    "    z = x + y\n",
    "    return z "
   ]
  },
  {
   "cell_type": "code",
   "execution_count": 8,
   "id": "be9dd9b8",
   "metadata": {},
   "outputs": [],
   "source": [
    "result = func2(1)"
   ]
  },
  {
   "cell_type": "code",
   "execution_count": 9,
   "id": "25cea57f",
   "metadata": {},
   "outputs": [
    {
     "name": "stdout",
     "output_type": "stream",
     "text": [
      "12\n"
     ]
    }
   ],
   "source": [
    "print(result)"
   ]
  },
  {
   "cell_type": "code",
   "execution_count": 10,
   "id": "e21b22c4",
   "metadata": {},
   "outputs": [
    {
     "name": "stdout",
     "output_type": "stream",
     "text": [
      "11\n"
     ]
    }
   ],
   "source": [
    "def func3():\n",
    "    x = 88 \n",
    "\n",
    "print(x)"
   ]
  },
  {
   "cell_type": "code",
   "execution_count": 18,
   "id": "cc5eb328",
   "metadata": {},
   "outputs": [
    {
     "name": "stdout",
     "output_type": "stream",
     "text": [
      "88\n",
      "None\n"
     ]
    }
   ],
   "source": [
    "def f1():\n",
    "    x = 88 \n",
    "    \n",
    "    def f2():\n",
    "        print(x)\n",
    "    return f2\n",
    "var = f1()\n",
    "print(var())"
   ]
  },
  {
   "cell_type": "code",
   "execution_count": 29,
   "id": "bdbcf4a6",
   "metadata": {},
   "outputs": [
    {
     "name": "stdout",
     "output_type": "stream",
     "text": [
      "<function hoya.<locals>.actual at 0x000001A93E6FBE20>\n",
      "<function hoya.<locals>.actual at 0x000001A93E6FAFC0>\n",
      "25\n",
      "27\n"
     ]
    }
   ],
   "source": [
    "def hoya(num):\n",
    "    def actual(x):\n",
    "        return x**num \n",
    "    return actual \n",
    "\n",
    "var1 = hoya(2)\n",
    "var2 = hoya(3)\n",
    "\n",
    "print(var1)\n",
    "print(var2)\n",
    "\n",
    "print(var1(5))\n",
    "print(var2(3))"
   ]
  },
  {
   "cell_type": "code",
   "execution_count": 24,
   "id": "31dfa63f",
   "metadata": {},
   "outputs": [
    {
     "name": "stdout",
     "output_type": "stream",
     "text": [
      "Variable   Type        Data/Info\n",
      "--------------------------------\n",
      "f1         function    <function f1 at 0x000001A93E6FACA0>\n",
      "func       function    <function func at 0x000001A93E5D9EE0>\n",
      "func2      function    <function func2 at 0x000001A938DFAF20>\n",
      "func3      function    <function func3 at 0x000001A93E5D93A0>\n",
      "hoya       function    <function hoya at 0x000001A93E6FA7A0>\n",
      "result     int         12\n",
      "username   str         soham piprotar \n",
      "var        function    <function f1.<locals>.f2 at 0x000001A93E6F9B20>\n",
      "var1       function    <function hoya.<locals>.a<...>al at 0x000001A93E6FB380>\n",
      "var2       function    <function hoya.<locals>.a<...>al at 0x000001A93E6F9EE0>\n",
      "x          int         11\n"
     ]
    }
   ],
   "source": [
    "%whos"
   ]
  },
  {
   "cell_type": "code",
   "execution_count": 30,
   "id": "0063417c",
   "metadata": {},
   "outputs": [],
   "source": [
    "del f1 , func , func2 , func3 , hoya , result , username , var , var1 , var2 , x"
   ]
  },
  {
   "cell_type": "code",
   "execution_count": 31,
   "id": "c31875e0",
   "metadata": {},
   "outputs": [
    {
     "name": "stdout",
     "output_type": "stream",
     "text": [
      "Interactive namespace is empty.\n"
     ]
    }
   ],
   "source": [
    "%whos"
   ]
  },
  {
   "cell_type": "code",
   "execution_count": null,
   "id": "7d6d4e18",
   "metadata": {},
   "outputs": [],
   "source": []
  }
 ],
 "metadata": {
  "kernelspec": {
   "display_name": "Python 3 (ipykernel)",
   "language": "python",
   "name": "python3"
  },
  "language_info": {
   "codemirror_mode": {
    "name": "ipython",
    "version": 3
   },
   "file_extension": ".py",
   "mimetype": "text/x-python",
   "name": "python",
   "nbconvert_exporter": "python",
   "pygments_lexer": "ipython3",
   "version": "3.11.4"
  }
 },
 "nbformat": 4,
 "nbformat_minor": 5
}
